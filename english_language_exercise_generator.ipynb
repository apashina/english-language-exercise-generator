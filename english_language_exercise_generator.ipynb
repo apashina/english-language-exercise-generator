{
 "cells": [
  {
   "cell_type": "markdown",
   "id": "7cfe4286",
   "metadata": {},
   "source": [
    "# Генератор упражнений по английскому языку"
   ]
  },
  {
   "cell_type": "markdown",
   "id": "78d6e6c2",
   "metadata": {},
   "source": [
    "## Задание"
   ]
  },
  {
   "cell_type": "markdown",
   "id": "5e0f0d52",
   "metadata": {},
   "source": [
    "**Цель** - создать веб-приложение, которое автоматически преобразует предоставленный текст в упражнения по английскому языку, используя технологии обработки естественного языка (NLP).\n",
    "\n",
    "**Задачи**\n",
    "\n",
    "- Изучить имеющиеся примеры упражнений;\n",
    "- Разработать методы преобразования текста в подобные задания;\n",
    "- Разработать модуль (класс или набор функций), осуществляющий преобразование текста;\n",
    "- Создать приложение для демонстрации заказчику, например, с помощью платформы Streamlit.\n",
    "\n",
    "**Исходные данные**\n",
    "\n",
    "Little Red Cap. Jacob and Wilhelm Grimm - Source: \"Rothkäppchen,\" Kinder- und Hausmärchen, 1st ed. (Berlin: Realschulbuchhandlung, 1812), v. 1, no. 26, pp. 113-18. Translated by D. L. Ashliman."
   ]
  },
  {
   "cell_type": "markdown",
   "id": "b919cc9f",
   "metadata": {},
   "source": [
    "## Парсинг данных"
   ]
  },
  {
   "cell_type": "code",
   "execution_count": 1,
   "id": "96361be9",
   "metadata": {},
   "outputs": [],
   "source": [
    "import re\n",
    "import random\n",
    "\n",
    "import pandas as pd\n",
    "import gensim.downloader as api\n",
    "import spacy\n",
    "import en_core_web_sm\n",
    "import contractions\n",
    "import pyinflect\n",
    "\n",
    "from sentence_splitter import SentenceSplitter\n",
    "from langdetect import detect\n",
    "from word_forms.word_forms import get_word_forms"
   ]
  },
  {
   "cell_type": "code",
   "execution_count": 2,
   "id": "0ec92190",
   "metadata": {},
   "outputs": [],
   "source": [
    "def read_text(file_path):\n",
    "    with open(file_path, encoding='utf-8') as file:\n",
    "        text = file.read()\n",
    "    return text"
   ]
  },
  {
   "cell_type": "code",
   "execution_count": 3,
   "id": "b3bb5122",
   "metadata": {},
   "outputs": [],
   "source": [
    "text = read_text('Little_Red_Cap_Jacob_and_Wilhelm_Grimm.txt')"
   ]
  },
  {
   "cell_type": "markdown",
   "id": "548a6e08",
   "metadata": {},
   "source": [
    "Выполним сегментацию - разделим текст на предложения."
   ]
  },
  {
   "cell_type": "code",
   "execution_count": 4,
   "id": "d568c5ac",
   "metadata": {},
   "outputs": [],
   "source": [
    "splitter = SentenceSplitter(language='en')\n",
    "sentences = splitter.split(text=text)"
   ]
  },
  {
   "attachments": {},
   "cell_type": "markdown",
   "id": "cd393601",
   "metadata": {},
   "source": [
    "* `sentence` - исходное предложение,\n",
    "* `type` - тип упражнения,\n",
    "* `description` - задание,\n",
    "* `object` - объект задания,\n",
    "* `response_options` - варианты ответа,\n",
    "* `right_answer` - правильный ответ."
   ]
  },
  {
   "cell_type": "code",
   "execution_count": 5,
   "id": "6b07ccec",
   "metadata": {},
   "outputs": [],
   "source": [
    "df = pd.DataFrame(columns=['sentence', 'type', 'description', 'object', 'response_options', 'right_answer'])"
   ]
  },
  {
   "cell_type": "code",
   "execution_count": 6,
   "id": "70545ff8",
   "metadata": {},
   "outputs": [],
   "source": [
    "sentences = list(filter(lambda x: x, sentences))"
   ]
  },
  {
   "cell_type": "code",
   "execution_count": 7,
   "id": "92cc27be",
   "metadata": {},
   "outputs": [],
   "source": [
    "df['sentence'] = sentences"
   ]
  },
  {
   "cell_type": "code",
   "execution_count": 8,
   "id": "32b1ac79",
   "metadata": {},
   "outputs": [
    {
     "data": {
      "text/html": [
       "<div>\n",
       "<style scoped>\n",
       "    .dataframe tbody tr th:only-of-type {\n",
       "        vertical-align: middle;\n",
       "    }\n",
       "\n",
       "    .dataframe tbody tr th {\n",
       "        vertical-align: top;\n",
       "    }\n",
       "\n",
       "    .dataframe thead th {\n",
       "        text-align: right;\n",
       "    }\n",
       "</style>\n",
       "<table border=\"1\" class=\"dataframe\">\n",
       "  <thead>\n",
       "    <tr style=\"text-align: right;\">\n",
       "      <th></th>\n",
       "      <th>sentence</th>\n",
       "      <th>type</th>\n",
       "      <th>description</th>\n",
       "      <th>object</th>\n",
       "      <th>response_options</th>\n",
       "      <th>right_answer</th>\n",
       "    </tr>\n",
       "  </thead>\n",
       "  <tbody>\n",
       "    <tr>\n",
       "      <th>0</th>\n",
       "      <td>Little Red Cap</td>\n",
       "      <td>NaN</td>\n",
       "      <td>NaN</td>\n",
       "      <td>NaN</td>\n",
       "      <td>NaN</td>\n",
       "      <td>NaN</td>\n",
       "    </tr>\n",
       "    <tr>\n",
       "      <th>1</th>\n",
       "      <td>Jacob and Wilhelm Grimm</td>\n",
       "      <td>NaN</td>\n",
       "      <td>NaN</td>\n",
       "      <td>NaN</td>\n",
       "      <td>NaN</td>\n",
       "      <td>NaN</td>\n",
       "    </tr>\n",
       "    <tr>\n",
       "      <th>2</th>\n",
       "      <td>Once upon a time there was a sweet little girl.</td>\n",
       "      <td>NaN</td>\n",
       "      <td>NaN</td>\n",
       "      <td>NaN</td>\n",
       "      <td>NaN</td>\n",
       "      <td>NaN</td>\n",
       "    </tr>\n",
       "    <tr>\n",
       "      <th>3</th>\n",
       "      <td>Everyone who saw her liked her, but most of al...</td>\n",
       "      <td>NaN</td>\n",
       "      <td>NaN</td>\n",
       "      <td>NaN</td>\n",
       "      <td>NaN</td>\n",
       "      <td>NaN</td>\n",
       "    </tr>\n",
       "    <tr>\n",
       "      <th>4</th>\n",
       "      <td>Once she gave her a little cap made of red vel...</td>\n",
       "      <td>NaN</td>\n",
       "      <td>NaN</td>\n",
       "      <td>NaN</td>\n",
       "      <td>NaN</td>\n",
       "      <td>NaN</td>\n",
       "    </tr>\n",
       "    <tr>\n",
       "      <th>...</th>\n",
       "      <td>...</td>\n",
       "      <td>...</td>\n",
       "      <td>...</td>\n",
       "      <td>...</td>\n",
       "      <td>...</td>\n",
       "      <td>...</td>\n",
       "    </tr>\n",
       "    <tr>\n",
       "      <th>107</th>\n",
       "      <td>Marie Hassenpflug (1788-1856) provided them wi...</td>\n",
       "      <td>NaN</td>\n",
       "      <td>NaN</td>\n",
       "      <td>NaN</td>\n",
       "      <td>NaN</td>\n",
       "      <td>NaN</td>\n",
       "    </tr>\n",
       "    <tr>\n",
       "      <th>108</th>\n",
       "      <td>The German title of this tale is Rotkäppchen (...</td>\n",
       "      <td>NaN</td>\n",
       "      <td>NaN</td>\n",
       "      <td>NaN</td>\n",
       "      <td>NaN</td>\n",
       "      <td>NaN</td>\n",
       "    </tr>\n",
       "    <tr>\n",
       "      <th>109</th>\n",
       "      <td>Link to an English translation of the Grimms' ...</td>\n",
       "      <td>NaN</td>\n",
       "      <td>NaN</td>\n",
       "      <td>NaN</td>\n",
       "      <td>NaN</td>\n",
       "      <td>NaN</td>\n",
       "    </tr>\n",
       "    <tr>\n",
       "      <th>110</th>\n",
       "      <td>Link to the German text of the Grimms' final v...</td>\n",
       "      <td>NaN</td>\n",
       "      <td>NaN</td>\n",
       "      <td>NaN</td>\n",
       "      <td>NaN</td>\n",
       "      <td>NaN</td>\n",
       "    </tr>\n",
       "    <tr>\n",
       "      <th>111</th>\n",
       "      <td>1 (Göttingen: Verlag der Dieterichschen Buchha...</td>\n",
       "      <td>NaN</td>\n",
       "      <td>NaN</td>\n",
       "      <td>NaN</td>\n",
       "      <td>NaN</td>\n",
       "      <td>NaN</td>\n",
       "    </tr>\n",
       "  </tbody>\n",
       "</table>\n",
       "<p>112 rows × 6 columns</p>\n",
       "</div>"
      ],
      "text/plain": [
       "                                              sentence type description  \\\n",
       "0                                       Little Red Cap  NaN         NaN   \n",
       "1                              Jacob and Wilhelm Grimm  NaN         NaN   \n",
       "2      Once upon a time there was a sweet little girl.  NaN         NaN   \n",
       "3    Everyone who saw her liked her, but most of al...  NaN         NaN   \n",
       "4    Once she gave her a little cap made of red vel...  NaN         NaN   \n",
       "..                                                 ...  ...         ...   \n",
       "107  Marie Hassenpflug (1788-1856) provided them wi...  NaN         NaN   \n",
       "108  The German title of this tale is Rotkäppchen (...  NaN         NaN   \n",
       "109  Link to an English translation of the Grimms' ...  NaN         NaN   \n",
       "110  Link to the German text of the Grimms' final v...  NaN         NaN   \n",
       "111  1 (Göttingen: Verlag der Dieterichschen Buchha...  NaN         NaN   \n",
       "\n",
       "    object response_options right_answer  \n",
       "0      NaN              NaN          NaN  \n",
       "1      NaN              NaN          NaN  \n",
       "2      NaN              NaN          NaN  \n",
       "3      NaN              NaN          NaN  \n",
       "4      NaN              NaN          NaN  \n",
       "..     ...              ...          ...  \n",
       "107    NaN              NaN          NaN  \n",
       "108    NaN              NaN          NaN  \n",
       "109    NaN              NaN          NaN  \n",
       "110    NaN              NaN          NaN  \n",
       "111    NaN              NaN          NaN  \n",
       "\n",
       "[112 rows x 6 columns]"
      ]
     },
     "execution_count": 8,
     "metadata": {},
     "output_type": "execute_result"
    }
   ],
   "source": [
    "df"
   ]
  },
  {
   "cell_type": "markdown",
   "id": "92ce9956",
   "metadata": {},
   "source": [
    "## Разработка заданий"
   ]
  },
  {
   "cell_type": "code",
   "execution_count": 9,
   "id": "90f4e0bb",
   "metadata": {},
   "outputs": [],
   "source": [
    "# загрузка предварительно обученной модели с помощью API Gensim Downloader\n",
    "model = api.load('glove-wiki-gigaword-100')"
   ]
  },
  {
   "cell_type": "code",
   "execution_count": 10,
   "id": "f897ffbd",
   "metadata": {},
   "outputs": [],
   "source": [
    "# a general-purpose model with tagging, parsing, lemmatization and named entity recognition\n",
    "# малая модель spacy\n",
    "nlp = spacy.load('en_core_web_sm')"
   ]
  },
  {
   "cell_type": "markdown",
   "id": "7fee664a",
   "metadata": {},
   "source": [
    "### Выбор пропущенного слова"
   ]
  },
  {
   "cell_type": "markdown",
   "id": "77b344d4",
   "metadata": {},
   "source": [
    "#### Выбор правильной формы глагола"
   ]
  },
  {
   "cell_type": "code",
   "execution_count": 11,
   "id": "847ddbc5",
   "metadata": {},
   "outputs": [],
   "source": [
    "def select_verb_form(row):\n",
    "    token_list = [token for token in nlp(row['sentence']) if token.pos_ == 'VERB']\n",
    "    if len(token_list) == 0 or detect(row['sentence']) != 'en':\n",
    "        return row\n",
    "    \n",
    "    try:\n",
    "        word = random.choice(token_list).text\n",
    "        response_options = list(get_word_forms(word.lower())['v'])\n",
    "        if not response_options:\n",
    "            return row\n",
    "        response_options = [w for w in response_options if ' not' not in w]\n",
    "        if word.istitle():\n",
    "            response_options = [w.title() for w in response_options]\n",
    "        random.shuffle(response_options)\n",
    "\n",
    "        row['type'] = 'select_verb_form'\n",
    "        row['description'] = 'Выберите глагол в правильной форме'\n",
    "        row['object'] = re.sub(f'\\\\b{word}\\\\b', '_____', row['sentence'], count=1)\n",
    "        row['response_options'] = response_options\n",
    "        row['right_answer'] = word\n",
    "    except:\n",
    "        pass\n",
    "    return row"
   ]
  },
  {
   "cell_type": "code",
   "execution_count": 12,
   "id": "c1b407be",
   "metadata": {},
   "outputs": [],
   "source": [
    "df_1 = (df\n",
    "        .copy()\n",
    "        .apply(select_verb_form, axis=1)\n",
    "        .dropna().reset_index(drop=True))"
   ]
  },
  {
   "cell_type": "code",
   "execution_count": 13,
   "id": "be1f3be6",
   "metadata": {},
   "outputs": [
    {
     "data": {
      "text/html": [
       "<div>\n",
       "<style scoped>\n",
       "    .dataframe tbody tr th:only-of-type {\n",
       "        vertical-align: middle;\n",
       "    }\n",
       "\n",
       "    .dataframe tbody tr th {\n",
       "        vertical-align: top;\n",
       "    }\n",
       "\n",
       "    .dataframe thead th {\n",
       "        text-align: right;\n",
       "    }\n",
       "</style>\n",
       "<table border=\"1\" class=\"dataframe\">\n",
       "  <thead>\n",
       "    <tr style=\"text-align: right;\">\n",
       "      <th></th>\n",
       "      <th>sentence</th>\n",
       "      <th>type</th>\n",
       "      <th>description</th>\n",
       "      <th>object</th>\n",
       "      <th>response_options</th>\n",
       "      <th>right_answer</th>\n",
       "    </tr>\n",
       "  </thead>\n",
       "  <tbody>\n",
       "    <tr>\n",
       "      <th>0</th>\n",
       "      <td>Once upon a time there was a sweet little girl.</td>\n",
       "      <td>select_verb_form</td>\n",
       "      <td>Выберите глагол в правильной форме</td>\n",
       "      <td>Once upon a time there _____ a sweet little girl.</td>\n",
       "      <td>[was, are, being, am, isn't, weren't, aren't, ...</td>\n",
       "      <td>was</td>\n",
       "    </tr>\n",
       "    <tr>\n",
       "      <th>1</th>\n",
       "      <td>Everyone who saw her liked her, but most of al...</td>\n",
       "      <td>select_verb_form</td>\n",
       "      <td>Выберите глагол в правильной форме</td>\n",
       "      <td>Everyone who saw her liked her, but most of al...</td>\n",
       "      <td>[knowing, knew, knows, known, know]</td>\n",
       "      <td>know</td>\n",
       "    </tr>\n",
       "    <tr>\n",
       "      <th>2</th>\n",
       "      <td>Once she gave her a little cap made of red vel...</td>\n",
       "      <td>select_verb_form</td>\n",
       "      <td>Выберите глагол в правильной форме</td>\n",
       "      <td>Once she gave her a little cap _____ of red ve...</td>\n",
       "      <td>[makes, make, made, making]</td>\n",
       "      <td>made</td>\n",
       "    </tr>\n",
       "    <tr>\n",
       "      <th>3</th>\n",
       "      <td>Because it suited her so well, and she wanted ...</td>\n",
       "      <td>select_verb_form</td>\n",
       "      <td>Выберите глагол в правильной форме</td>\n",
       "      <td>Because it suited her so well, and she _____ t...</td>\n",
       "      <td>[wanted, want, wants, wanting]</td>\n",
       "      <td>wanted</td>\n",
       "    </tr>\n",
       "    <tr>\n",
       "      <th>4</th>\n",
       "      <td>One day her mother said to her, \"Come Little R...</td>\n",
       "      <td>select_verb_form</td>\n",
       "      <td>Выберите глагол в правильной форме</td>\n",
       "      <td>One day her mother _____ to her, \"Come Little ...</td>\n",
       "      <td>[said, saying, says, say]</td>\n",
       "      <td>said</td>\n",
       "    </tr>\n",
       "  </tbody>\n",
       "</table>\n",
       "</div>"
      ],
      "text/plain": [
       "                                            sentence              type  \\\n",
       "0    Once upon a time there was a sweet little girl.  select_verb_form   \n",
       "1  Everyone who saw her liked her, but most of al...  select_verb_form   \n",
       "2  Once she gave her a little cap made of red vel...  select_verb_form   \n",
       "3  Because it suited her so well, and she wanted ...  select_verb_form   \n",
       "4  One day her mother said to her, \"Come Little R...  select_verb_form   \n",
       "\n",
       "                          description  \\\n",
       "0  Выберите глагол в правильной форме   \n",
       "1  Выберите глагол в правильной форме   \n",
       "2  Выберите глагол в правильной форме   \n",
       "3  Выберите глагол в правильной форме   \n",
       "4  Выберите глагол в правильной форме   \n",
       "\n",
       "                                              object  \\\n",
       "0  Once upon a time there _____ a sweet little girl.   \n",
       "1  Everyone who saw her liked her, but most of al...   \n",
       "2  Once she gave her a little cap _____ of red ve...   \n",
       "3  Because it suited her so well, and she _____ t...   \n",
       "4  One day her mother _____ to her, \"Come Little ...   \n",
       "\n",
       "                                    response_options right_answer  \n",
       "0  [was, are, being, am, isn't, weren't, aren't, ...          was  \n",
       "1                [knowing, knew, knows, known, know]         know  \n",
       "2                        [makes, make, made, making]         made  \n",
       "3                     [wanted, want, wants, wanting]       wanted  \n",
       "4                          [said, saying, says, say]         said  "
      ]
     },
     "execution_count": 13,
     "metadata": {},
     "output_type": "execute_result"
    }
   ],
   "source": [
    "df_1.head()"
   ]
  },
  {
   "cell_type": "code",
   "execution_count": 14,
   "id": "7d971842",
   "metadata": {},
   "outputs": [
    {
     "data": {
      "text/plain": [
       "(93, 6)"
      ]
     },
     "execution_count": 14,
     "metadata": {},
     "output_type": "execute_result"
    }
   ],
   "source": [
    "df_1.shape"
   ]
  },
  {
   "cell_type": "markdown",
   "id": "c26a46c3",
   "metadata": {},
   "source": [
    "#### Выбор вспомогательного глагола"
   ]
  },
  {
   "cell_type": "code",
   "execution_count": 15,
   "id": "7b022742",
   "metadata": {},
   "outputs": [],
   "source": [
    "def select_auxiliary_verb(row):\n",
    "    token_list = [token for token in nlp(contractions.fix(row['sentence'])) if token.pos_ == 'AUX']\n",
    "    if len(token_list) == 0 or detect(row['sentence']) != 'en':\n",
    "        return row\n",
    "    \n",
    "    try:\n",
    "        word = random.choice(token_list).text\n",
    "        response_options = list(get_word_forms(word.lower())['v'])\n",
    "        if not response_options:\n",
    "            return row\n",
    "        response_options = [w for w in response_options if not(\"n't\" in w or ' not' in w)]\n",
    "        \n",
    "        if word.istitle():\n",
    "            response_options = [w.title() for w in response_options]\n",
    "        random.shuffle(response_options)\n",
    "\n",
    "        row['type'] = 'select_auxiliary_verb'\n",
    "        row['description'] = 'Выберите вспомогательный глагол'\n",
    "        obj = re.sub(r'\\b(can)(not)\\b', r'\\1 \\2', contractions.fix(row['sentence']), flags=re.IGNORECASE)\n",
    "        row['object'] = re.sub(f'\\\\b{word}\\\\b', '_____', obj, count=1)\n",
    "        row['response_options'] = response_options\n",
    "        row['right_answer'] = word\n",
    "    except:\n",
    "        pass\n",
    "    return row"
   ]
  },
  {
   "cell_type": "code",
   "execution_count": 16,
   "id": "6d024c27",
   "metadata": {},
   "outputs": [],
   "source": [
    "df_2 = (df\n",
    "        .copy()\n",
    "        .apply(select_auxiliary_verb, axis=1)\n",
    "        .dropna().reset_index(drop=True))"
   ]
  },
  {
   "cell_type": "code",
   "execution_count": 17,
   "id": "be4520c2",
   "metadata": {},
   "outputs": [
    {
     "data": {
      "text/html": [
       "<div>\n",
       "<style scoped>\n",
       "    .dataframe tbody tr th:only-of-type {\n",
       "        vertical-align: middle;\n",
       "    }\n",
       "\n",
       "    .dataframe tbody tr th {\n",
       "        vertical-align: top;\n",
       "    }\n",
       "\n",
       "    .dataframe thead th {\n",
       "        text-align: right;\n",
       "    }\n",
       "</style>\n",
       "<table border=\"1\" class=\"dataframe\">\n",
       "  <thead>\n",
       "    <tr style=\"text-align: right;\">\n",
       "      <th></th>\n",
       "      <th>sentence</th>\n",
       "      <th>type</th>\n",
       "      <th>description</th>\n",
       "      <th>object</th>\n",
       "      <th>response_options</th>\n",
       "      <th>right_answer</th>\n",
       "    </tr>\n",
       "  </thead>\n",
       "  <tbody>\n",
       "    <tr>\n",
       "      <th>0</th>\n",
       "      <td>Everyone who saw her liked her, but most of al...</td>\n",
       "      <td>select_auxiliary_verb</td>\n",
       "      <td>Выберите вспомогательный глагол</td>\n",
       "      <td>Everyone who saw her liked her, but most of al...</td>\n",
       "      <td>[do, did, does, done, doing]</td>\n",
       "      <td>did</td>\n",
       "    </tr>\n",
       "    <tr>\n",
       "      <th>1</th>\n",
       "      <td>Because it suited her so well, and she wanted ...</td>\n",
       "      <td>select_auxiliary_verb</td>\n",
       "      <td>Выберите вспомогательный глагол</td>\n",
       "      <td>Because it suited her so well, and she wanted ...</td>\n",
       "      <td>[being, be, am, is, been, are, were, was]</td>\n",
       "      <td>be</td>\n",
       "    </tr>\n",
       "    <tr>\n",
       "      <th>2</th>\n",
       "      <td>Here is a piece of cake and a bottle of wine.</td>\n",
       "      <td>select_auxiliary_verb</td>\n",
       "      <td>Выберите вспомогательный глагол</td>\n",
       "      <td>Here _____ a piece of cake and a bottle of wine.</td>\n",
       "      <td>[am, be, were, is, being, been, was, are]</td>\n",
       "      <td>is</td>\n",
       "    </tr>\n",
       "    <tr>\n",
       "      <th>3</th>\n",
       "      <td>She is sick and weak, and they will do her well.</td>\n",
       "      <td>select_auxiliary_verb</td>\n",
       "      <td>Выберите вспомогательный глагол</td>\n",
       "      <td>She is sick and weak, and they _____ do her well.</td>\n",
       "      <td>[will, willing, willed]</td>\n",
       "      <td>will</td>\n",
       "    </tr>\n",
       "    <tr>\n",
       "      <th>4</th>\n",
       "      <td>She did not know what a wicked animal he was, ...</td>\n",
       "      <td>select_auxiliary_verb</td>\n",
       "      <td>Выберите вспомогательный глагол</td>\n",
       "      <td>She did not know what a wicked animal he _____...</td>\n",
       "      <td>[was, be, being, been, are, were, is, am]</td>\n",
       "      <td>was</td>\n",
       "    </tr>\n",
       "  </tbody>\n",
       "</table>\n",
       "</div>"
      ],
      "text/plain": [
       "                                            sentence                   type  \\\n",
       "0  Everyone who saw her liked her, but most of al...  select_auxiliary_verb   \n",
       "1  Because it suited her so well, and she wanted ...  select_auxiliary_verb   \n",
       "2      Here is a piece of cake and a bottle of wine.  select_auxiliary_verb   \n",
       "3   She is sick and weak, and they will do her well.  select_auxiliary_verb   \n",
       "4  She did not know what a wicked animal he was, ...  select_auxiliary_verb   \n",
       "\n",
       "                       description  \\\n",
       "0  Выберите вспомогательный глагол   \n",
       "1  Выберите вспомогательный глагол   \n",
       "2  Выберите вспомогательный глагол   \n",
       "3  Выберите вспомогательный глагол   \n",
       "4  Выберите вспомогательный глагол   \n",
       "\n",
       "                                              object  \\\n",
       "0  Everyone who saw her liked her, but most of al...   \n",
       "1  Because it suited her so well, and she wanted ...   \n",
       "2   Here _____ a piece of cake and a bottle of wine.   \n",
       "3  She is sick and weak, and they _____ do her well.   \n",
       "4  She did not know what a wicked animal he _____...   \n",
       "\n",
       "                            response_options right_answer  \n",
       "0               [do, did, does, done, doing]          did  \n",
       "1  [being, be, am, is, been, are, were, was]           be  \n",
       "2  [am, be, were, is, being, been, was, are]           is  \n",
       "3                    [will, willing, willed]         will  \n",
       "4  [was, be, being, been, are, were, is, am]          was  "
      ]
     },
     "execution_count": 17,
     "metadata": {},
     "output_type": "execute_result"
    }
   ],
   "source": [
    "df_2.head()"
   ]
  },
  {
   "cell_type": "code",
   "execution_count": 18,
   "id": "10a8efd7",
   "metadata": {},
   "outputs": [
    {
     "data": {
      "text/plain": [
       "(49, 6)"
      ]
     },
     "execution_count": 18,
     "metadata": {},
     "output_type": "execute_result"
    }
   ],
   "source": [
    "df_2.shape"
   ]
  },
  {
   "cell_type": "markdown",
   "id": "20a07a32",
   "metadata": {},
   "source": [
    "#### Выбор подходящего по смыслу слова"
   ]
  },
  {
   "cell_type": "code",
   "execution_count": 19,
   "id": "6ae29d3c",
   "metadata": {},
   "outputs": [],
   "source": [
    "def select_similar_word(row):\n",
    "    \n",
    "    token_list = [token for token in nlp(row['sentence']) if token.pos_ in ['NOUN', 'ADV', 'ADJ']]\n",
    "    if len(token_list) == 0 or detect(row['sentence']) != 'en':\n",
    "        return row\n",
    "    \n",
    "    try:\n",
    "        word = random.choice(token_list).text\n",
    "        response_options = [tup[0] for tup in model.similar_by_word(word.lower(), topn=3)] + [word]\n",
    "        if word.istitle():\n",
    "            response_options = [w.title() for w in response_options]\n",
    "        random.shuffle(response_options)\n",
    "\n",
    "        row['type'] = 'select_word_from_similar_words'\n",
    "        row['description'] = 'Выберите подходящее по смыслу слово'\n",
    "        row['object'] = re.sub(f'\\\\b{word}\\\\b', '_____', row['sentence'], count=1)\n",
    "        row['response_options'] = response_options\n",
    "        row['right_answer'] = word\n",
    "    except:\n",
    "        pass\n",
    "    return row"
   ]
  },
  {
   "cell_type": "code",
   "execution_count": 20,
   "id": "d546c410",
   "metadata": {},
   "outputs": [],
   "source": [
    "df_3 = (df\n",
    "        .copy()\n",
    "        .apply(select_similar_word, axis=1)\n",
    "        .dropna().reset_index(drop=True))"
   ]
  },
  {
   "cell_type": "code",
   "execution_count": 21,
   "id": "625e4315",
   "metadata": {},
   "outputs": [
    {
     "data": {
      "text/html": [
       "<div>\n",
       "<style scoped>\n",
       "    .dataframe tbody tr th:only-of-type {\n",
       "        vertical-align: middle;\n",
       "    }\n",
       "\n",
       "    .dataframe tbody tr th {\n",
       "        vertical-align: top;\n",
       "    }\n",
       "\n",
       "    .dataframe thead th {\n",
       "        text-align: right;\n",
       "    }\n",
       "</style>\n",
       "<table border=\"1\" class=\"dataframe\">\n",
       "  <thead>\n",
       "    <tr style=\"text-align: right;\">\n",
       "      <th></th>\n",
       "      <th>sentence</th>\n",
       "      <th>type</th>\n",
       "      <th>description</th>\n",
       "      <th>object</th>\n",
       "      <th>response_options</th>\n",
       "      <th>right_answer</th>\n",
       "    </tr>\n",
       "  </thead>\n",
       "  <tbody>\n",
       "    <tr>\n",
       "      <th>0</th>\n",
       "      <td>Little Red Cap</td>\n",
       "      <td>select_word_from_similar_words</td>\n",
       "      <td>Выберите подходящее по смыслу слово</td>\n",
       "      <td>_____ Red Cap</td>\n",
       "      <td>[Little, Too, Much, Bit]</td>\n",
       "      <td>Little</td>\n",
       "    </tr>\n",
       "    <tr>\n",
       "      <th>1</th>\n",
       "      <td>Once upon a time there was a sweet little girl.</td>\n",
       "      <td>select_word_from_similar_words</td>\n",
       "      <td>Выберите подходящее по смыслу слово</td>\n",
       "      <td>Once upon a _____ there was a sweet little girl.</td>\n",
       "      <td>[before, this, time, when]</td>\n",
       "      <td>time</td>\n",
       "    </tr>\n",
       "    <tr>\n",
       "      <th>2</th>\n",
       "      <td>Everyone who saw her liked her, but most of al...</td>\n",
       "      <td>select_word_from_similar_words</td>\n",
       "      <td>Выберите подходящее по смыслу слово</td>\n",
       "      <td>Everyone who saw her liked her, but most of al...</td>\n",
       "      <td>[last, coming, next, week]</td>\n",
       "      <td>next</td>\n",
       "    </tr>\n",
       "    <tr>\n",
       "      <th>3</th>\n",
       "      <td>Once she gave her a little cap made of red vel...</td>\n",
       "      <td>select_word_from_similar_words</td>\n",
       "      <td>Выберите подходящее по смыслу слово</td>\n",
       "      <td>Once she gave her a little cap made of _____ v...</td>\n",
       "      <td>[red, green, blue, yellow]</td>\n",
       "      <td>red</td>\n",
       "    </tr>\n",
       "    <tr>\n",
       "      <th>4</th>\n",
       "      <td>Because it suited her so well, and she wanted ...</td>\n",
       "      <td>select_word_from_similar_words</td>\n",
       "      <td>Выберите подходящее по смыслу слово</td>\n",
       "      <td>Because it suited her _____ well, and she want...</td>\n",
       "      <td>[too, but, even, so]</td>\n",
       "      <td>so</td>\n",
       "    </tr>\n",
       "  </tbody>\n",
       "</table>\n",
       "</div>"
      ],
      "text/plain": [
       "                                            sentence  \\\n",
       "0                                     Little Red Cap   \n",
       "1    Once upon a time there was a sweet little girl.   \n",
       "2  Everyone who saw her liked her, but most of al...   \n",
       "3  Once she gave her a little cap made of red vel...   \n",
       "4  Because it suited her so well, and she wanted ...   \n",
       "\n",
       "                             type                          description  \\\n",
       "0  select_word_from_similar_words  Выберите подходящее по смыслу слово   \n",
       "1  select_word_from_similar_words  Выберите подходящее по смыслу слово   \n",
       "2  select_word_from_similar_words  Выберите подходящее по смыслу слово   \n",
       "3  select_word_from_similar_words  Выберите подходящее по смыслу слово   \n",
       "4  select_word_from_similar_words  Выберите подходящее по смыслу слово   \n",
       "\n",
       "                                              object  \\\n",
       "0                                      _____ Red Cap   \n",
       "1   Once upon a _____ there was a sweet little girl.   \n",
       "2  Everyone who saw her liked her, but most of al...   \n",
       "3  Once she gave her a little cap made of _____ v...   \n",
       "4  Because it suited her _____ well, and she want...   \n",
       "\n",
       "             response_options right_answer  \n",
       "0    [Little, Too, Much, Bit]       Little  \n",
       "1  [before, this, time, when]         time  \n",
       "2  [last, coming, next, week]         next  \n",
       "3  [red, green, blue, yellow]          red  \n",
       "4        [too, but, even, so]           so  "
      ]
     },
     "execution_count": 21,
     "metadata": {},
     "output_type": "execute_result"
    }
   ],
   "source": [
    "df_3.head()"
   ]
  },
  {
   "cell_type": "code",
   "execution_count": 22,
   "id": "1ace9723",
   "metadata": {},
   "outputs": [
    {
     "data": {
      "text/plain": [
       "(103, 6)"
      ]
     },
     "execution_count": 22,
     "metadata": {},
     "output_type": "execute_result"
    }
   ],
   "source": [
    "df_3.shape"
   ]
  },
  {
   "cell_type": "markdown",
   "id": "29b81030",
   "metadata": {},
   "source": [
    "### Заполнение пропущенного слова"
   ]
  },
  {
   "cell_type": "markdown",
   "id": "ad52bea0",
   "metadata": {},
   "source": [
    "#### Заполнение пропущенного вспомогательного глагола"
   ]
  },
  {
   "cell_type": "code",
   "execution_count": 23,
   "id": "b386e3b4",
   "metadata": {},
   "outputs": [],
   "source": [
    "def fill_missing_aux(row):\n",
    "    \n",
    "    token_list = [token for token in nlp(contractions.fix(row['sentence'])) if token.pos_ == 'AUX']\n",
    "    if len(token_list) == 0 or detect(row['sentence']) != 'en':\n",
    "        return row\n",
    " \n",
    "    word = random.choice(token_list).text\n",
    "    \n",
    "    row['type'] = 'fill_missing_aux'\n",
    "    row['description'] = 'Впишите пропущенный вспомогательный глагол'\n",
    "    obj = re.sub(r'\\b(can)(not)\\b', r'\\1 \\2', contractions.fix(row['sentence']), flags=re.IGNORECASE)\n",
    "    row['object'] = re.sub(fr'\\b{word}\\b', '_____', obj, count=1)\n",
    "    row['response_options'] = []\n",
    "    row['right_answer'] = word\n",
    "\n",
    "    return row"
   ]
  },
  {
   "cell_type": "code",
   "execution_count": 24,
   "id": "8e1da893",
   "metadata": {},
   "outputs": [],
   "source": [
    "df_4 = (df\n",
    "        .copy()\n",
    "        .apply(fill_missing_aux, axis=1)\n",
    "        .dropna().reset_index(drop=True))"
   ]
  },
  {
   "cell_type": "code",
   "execution_count": 25,
   "id": "3d535860",
   "metadata": {},
   "outputs": [
    {
     "data": {
      "text/html": [
       "<div>\n",
       "<style scoped>\n",
       "    .dataframe tbody tr th:only-of-type {\n",
       "        vertical-align: middle;\n",
       "    }\n",
       "\n",
       "    .dataframe tbody tr th {\n",
       "        vertical-align: top;\n",
       "    }\n",
       "\n",
       "    .dataframe thead th {\n",
       "        text-align: right;\n",
       "    }\n",
       "</style>\n",
       "<table border=\"1\" class=\"dataframe\">\n",
       "  <thead>\n",
       "    <tr style=\"text-align: right;\">\n",
       "      <th></th>\n",
       "      <th>sentence</th>\n",
       "      <th>type</th>\n",
       "      <th>description</th>\n",
       "      <th>object</th>\n",
       "      <th>response_options</th>\n",
       "      <th>right_answer</th>\n",
       "    </tr>\n",
       "  </thead>\n",
       "  <tbody>\n",
       "    <tr>\n",
       "      <th>0</th>\n",
       "      <td>Everyone who saw her liked her, but most of al...</td>\n",
       "      <td>fill_missing_aux</td>\n",
       "      <td>Впишите пропущенный вспомогательный глагол</td>\n",
       "      <td>Everyone who saw her liked her, but most of al...</td>\n",
       "      <td>[]</td>\n",
       "      <td>did</td>\n",
       "    </tr>\n",
       "    <tr>\n",
       "      <th>1</th>\n",
       "      <td>Because it suited her so well, and she wanted ...</td>\n",
       "      <td>fill_missing_aux</td>\n",
       "      <td>Впишите пропущенный вспомогательный глагол</td>\n",
       "      <td>Because it suited her so well, and she wanted ...</td>\n",
       "      <td>[]</td>\n",
       "      <td>be</td>\n",
       "    </tr>\n",
       "    <tr>\n",
       "      <th>2</th>\n",
       "      <td>Here is a piece of cake and a bottle of wine.</td>\n",
       "      <td>fill_missing_aux</td>\n",
       "      <td>Впишите пропущенный вспомогательный глагол</td>\n",
       "      <td>Here _____ a piece of cake and a bottle of wine.</td>\n",
       "      <td>[]</td>\n",
       "      <td>is</td>\n",
       "    </tr>\n",
       "    <tr>\n",
       "      <th>3</th>\n",
       "      <td>She is sick and weak, and they will do her well.</td>\n",
       "      <td>fill_missing_aux</td>\n",
       "      <td>Впишите пропущенный вспомогательный глагол</td>\n",
       "      <td>She is sick and weak, and they _____ do her well.</td>\n",
       "      <td>[]</td>\n",
       "      <td>will</td>\n",
       "    </tr>\n",
       "    <tr>\n",
       "      <th>4</th>\n",
       "      <td>Behave yourself on the way, and do not leave t...</td>\n",
       "      <td>fill_missing_aux</td>\n",
       "      <td>Впишите пропущенный вспомогательный глагол</td>\n",
       "      <td>Behave yourself on the way, and do not leave t...</td>\n",
       "      <td>[]</td>\n",
       "      <td>be</td>\n",
       "    </tr>\n",
       "  </tbody>\n",
       "</table>\n",
       "</div>"
      ],
      "text/plain": [
       "                                            sentence              type  \\\n",
       "0  Everyone who saw her liked her, but most of al...  fill_missing_aux   \n",
       "1  Because it suited her so well, and she wanted ...  fill_missing_aux   \n",
       "2      Here is a piece of cake and a bottle of wine.  fill_missing_aux   \n",
       "3   She is sick and weak, and they will do her well.  fill_missing_aux   \n",
       "4  Behave yourself on the way, and do not leave t...  fill_missing_aux   \n",
       "\n",
       "                                  description  \\\n",
       "0  Впишите пропущенный вспомогательный глагол   \n",
       "1  Впишите пропущенный вспомогательный глагол   \n",
       "2  Впишите пропущенный вспомогательный глагол   \n",
       "3  Впишите пропущенный вспомогательный глагол   \n",
       "4  Впишите пропущенный вспомогательный глагол   \n",
       "\n",
       "                                              object response_options  \\\n",
       "0  Everyone who saw her liked her, but most of al...               []   \n",
       "1  Because it suited her so well, and she wanted ...               []   \n",
       "2   Here _____ a piece of cake and a bottle of wine.               []   \n",
       "3  She is sick and weak, and they _____ do her well.               []   \n",
       "4  Behave yourself on the way, and do not leave t...               []   \n",
       "\n",
       "  right_answer  \n",
       "0          did  \n",
       "1           be  \n",
       "2           is  \n",
       "3         will  \n",
       "4           be  "
      ]
     },
     "execution_count": 25,
     "metadata": {},
     "output_type": "execute_result"
    }
   ],
   "source": [
    "df_4.head()"
   ]
  },
  {
   "cell_type": "code",
   "execution_count": 26,
   "id": "5672fcf3",
   "metadata": {},
   "outputs": [
    {
     "data": {
      "text/plain": [
       "(55, 6)"
      ]
     },
     "execution_count": 26,
     "metadata": {},
     "output_type": "execute_result"
    }
   ],
   "source": [
    "df_4.shape"
   ]
  },
  {
   "cell_type": "code",
   "execution_count": 27,
   "id": "8fe65aa6",
   "metadata": {},
   "outputs": [
    {
     "data": {
      "text/plain": [
       "array(['did', 'be', 'is', 'will', 'was', 'are', 'should', 'does', 'must',\n",
       "       'have', 'do', 'could', 'am', 'had', 'has', 'were', 'been', 'can'],\n",
       "      dtype=object)"
      ]
     },
     "execution_count": 27,
     "metadata": {},
     "output_type": "execute_result"
    }
   ],
   "source": [
    "df_4.right_answer.unique()"
   ]
  },
  {
   "cell_type": "markdown",
   "id": "64e3a0cb",
   "metadata": {},
   "source": [
    "#### Заполнение пропущенного определителя"
   ]
  },
  {
   "cell_type": "code",
   "execution_count": 28,
   "id": "65f6de2c",
   "metadata": {},
   "outputs": [],
   "source": [
    "def fill_missing_det(row):\n",
    "    \n",
    "    token_list = [token for token in nlp(row['sentence']) if token.tag_ == 'DT']\n",
    "    if len(token_list) == 0 or detect(row['sentence']) != 'en':\n",
    "        return row\n",
    " \n",
    "    word = random.choice(token_list).text\n",
    "    \n",
    "    row['type'] = 'fill_missing_det'\n",
    "    row['description'] = 'Впишите пропущенный определитель'\n",
    "    row['object'] = re.sub(fr'\\b{word}\\b', '_____', row['sentence'], count=1)\n",
    "    row['response_options'] = []\n",
    "    row['right_answer'] = word\n",
    "\n",
    "    return row"
   ]
  },
  {
   "cell_type": "code",
   "execution_count": 29,
   "id": "d983df0c",
   "metadata": {},
   "outputs": [],
   "source": [
    "df_5 = (df\n",
    "        .copy()\n",
    "        .apply(fill_missing_det, axis=1)\n",
    "        .dropna().reset_index(drop=True))"
   ]
  },
  {
   "cell_type": "code",
   "execution_count": 30,
   "id": "783e24a1",
   "metadata": {},
   "outputs": [
    {
     "data": {
      "text/html": [
       "<div>\n",
       "<style scoped>\n",
       "    .dataframe tbody tr th:only-of-type {\n",
       "        vertical-align: middle;\n",
       "    }\n",
       "\n",
       "    .dataframe tbody tr th {\n",
       "        vertical-align: top;\n",
       "    }\n",
       "\n",
       "    .dataframe thead th {\n",
       "        text-align: right;\n",
       "    }\n",
       "</style>\n",
       "<table border=\"1\" class=\"dataframe\">\n",
       "  <thead>\n",
       "    <tr style=\"text-align: right;\">\n",
       "      <th></th>\n",
       "      <th>sentence</th>\n",
       "      <th>type</th>\n",
       "      <th>description</th>\n",
       "      <th>object</th>\n",
       "      <th>response_options</th>\n",
       "      <th>right_answer</th>\n",
       "    </tr>\n",
       "  </thead>\n",
       "  <tbody>\n",
       "    <tr>\n",
       "      <th>0</th>\n",
       "      <td>Once upon a time there was a sweet little girl.</td>\n",
       "      <td>fill_missing_det</td>\n",
       "      <td>Впишите пропущенный определитель</td>\n",
       "      <td>Once upon _____ time there was a sweet little ...</td>\n",
       "      <td>[]</td>\n",
       "      <td>a</td>\n",
       "    </tr>\n",
       "    <tr>\n",
       "      <th>1</th>\n",
       "      <td>Everyone who saw her liked her, but most of al...</td>\n",
       "      <td>fill_missing_det</td>\n",
       "      <td>Впишите пропущенный определитель</td>\n",
       "      <td>Everyone who saw her liked her, but most of al...</td>\n",
       "      <td>[]</td>\n",
       "      <td>the</td>\n",
       "    </tr>\n",
       "    <tr>\n",
       "      <th>2</th>\n",
       "      <td>Once she gave her a little cap made of red vel...</td>\n",
       "      <td>fill_missing_det</td>\n",
       "      <td>Впишите пропущенный определитель</td>\n",
       "      <td>Once she gave her _____ little cap made of red...</td>\n",
       "      <td>[]</td>\n",
       "      <td>a</td>\n",
       "    </tr>\n",
       "    <tr>\n",
       "      <th>3</th>\n",
       "      <td>Because it suited her so well, and she wanted ...</td>\n",
       "      <td>fill_missing_det</td>\n",
       "      <td>Впишите пропущенный определитель</td>\n",
       "      <td>Because it suited her so well, and she wanted ...</td>\n",
       "      <td>[]</td>\n",
       "      <td>the</td>\n",
       "    </tr>\n",
       "    <tr>\n",
       "      <th>4</th>\n",
       "      <td>Here is a piece of cake and a bottle of wine.</td>\n",
       "      <td>fill_missing_det</td>\n",
       "      <td>Впишите пропущенный определитель</td>\n",
       "      <td>Here is _____ piece of cake and a bottle of wine.</td>\n",
       "      <td>[]</td>\n",
       "      <td>a</td>\n",
       "    </tr>\n",
       "  </tbody>\n",
       "</table>\n",
       "</div>"
      ],
      "text/plain": [
       "                                            sentence              type  \\\n",
       "0    Once upon a time there was a sweet little girl.  fill_missing_det   \n",
       "1  Everyone who saw her liked her, but most of al...  fill_missing_det   \n",
       "2  Once she gave her a little cap made of red vel...  fill_missing_det   \n",
       "3  Because it suited her so well, and she wanted ...  fill_missing_det   \n",
       "4      Here is a piece of cake and a bottle of wine.  fill_missing_det   \n",
       "\n",
       "                        description  \\\n",
       "0  Впишите пропущенный определитель   \n",
       "1  Впишите пропущенный определитель   \n",
       "2  Впишите пропущенный определитель   \n",
       "3  Впишите пропущенный определитель   \n",
       "4  Впишите пропущенный определитель   \n",
       "\n",
       "                                              object response_options  \\\n",
       "0  Once upon _____ time there was a sweet little ...               []   \n",
       "1  Everyone who saw her liked her, but most of al...               []   \n",
       "2  Once she gave her _____ little cap made of red...               []   \n",
       "3  Because it suited her so well, and she wanted ...               []   \n",
       "4  Here is _____ piece of cake and a bottle of wine.               []   \n",
       "\n",
       "  right_answer  \n",
       "0            a  \n",
       "1          the  \n",
       "2            a  \n",
       "3          the  \n",
       "4            a  "
      ]
     },
     "execution_count": 30,
     "metadata": {},
     "output_type": "execute_result"
    }
   ],
   "source": [
    "df_5.head()"
   ]
  },
  {
   "cell_type": "code",
   "execution_count": 31,
   "id": "9ca0f51f",
   "metadata": {},
   "outputs": [
    {
     "data": {
      "text/plain": [
       "(79, 6)"
      ]
     },
     "execution_count": 31,
     "metadata": {},
     "output_type": "execute_result"
    }
   ],
   "source": [
    "df_5.shape"
   ]
  },
  {
   "cell_type": "code",
   "execution_count": 32,
   "id": "3f0e4282",
   "metadata": {},
   "outputs": [
    {
     "data": {
      "text/plain": [
       "array(['a', 'the', 'The', 'some', 'an', 'all', 'that', 'this', 'A'],\n",
       "      dtype=object)"
      ]
     },
     "execution_count": 32,
     "metadata": {},
     "output_type": "execute_result"
    }
   ],
   "source": [
    "df_5.right_answer.unique()"
   ]
  },
  {
   "cell_type": "markdown",
   "id": "1db77a6f",
   "metadata": {},
   "source": [
    "#### Заполнение пропущенного притяжательного местоимения"
   ]
  },
  {
   "cell_type": "code",
   "execution_count": 33,
   "id": "9c7ef296",
   "metadata": {},
   "outputs": [],
   "source": [
    "def fill_missing_prp(row):\n",
    "    \n",
    "    token_list = [token for token in nlp(row['sentence']) if token.tag_ == 'PRP$']\n",
    "    if len(token_list) == 0 or detect(row['sentence']) != 'en':\n",
    "        return row\n",
    " \n",
    "    word = random.choice(token_list).text\n",
    "    \n",
    "    row['type'] = 'fill_missing_prp'\n",
    "    row['description'] = 'Впишите пропущенное притяжательное местоимение'\n",
    "    row['object'] = re.sub(fr'\\b{word}\\b', '_____', row['sentence'], count=1)\n",
    "    row['response_options'] = []\n",
    "    row['right_answer'] = word\n",
    "\n",
    "    return row"
   ]
  },
  {
   "cell_type": "code",
   "execution_count": 34,
   "id": "12323d5d",
   "metadata": {},
   "outputs": [],
   "source": [
    "df_6 = (df\n",
    "        .copy()\n",
    "        .apply(fill_missing_prp, axis=1)\n",
    "        .dropna().reset_index(drop=True))"
   ]
  },
  {
   "cell_type": "code",
   "execution_count": 35,
   "id": "57a1ea0d",
   "metadata": {},
   "outputs": [
    {
     "data": {
      "text/html": [
       "<div>\n",
       "<style scoped>\n",
       "    .dataframe tbody tr th:only-of-type {\n",
       "        vertical-align: middle;\n",
       "    }\n",
       "\n",
       "    .dataframe tbody tr th {\n",
       "        vertical-align: top;\n",
       "    }\n",
       "\n",
       "    .dataframe thead th {\n",
       "        text-align: right;\n",
       "    }\n",
       "</style>\n",
       "<table border=\"1\" class=\"dataframe\">\n",
       "  <thead>\n",
       "    <tr style=\"text-align: right;\">\n",
       "      <th></th>\n",
       "      <th>sentence</th>\n",
       "      <th>type</th>\n",
       "      <th>description</th>\n",
       "      <th>object</th>\n",
       "      <th>response_options</th>\n",
       "      <th>right_answer</th>\n",
       "    </tr>\n",
       "  </thead>\n",
       "  <tbody>\n",
       "    <tr>\n",
       "      <th>0</th>\n",
       "      <td>Everyone who saw her liked her, but most of al...</td>\n",
       "      <td>fill_missing_prp</td>\n",
       "      <td>Впишите пропущенное притяжательное местоимение</td>\n",
       "      <td>Everyone who saw _____ liked her, but most of ...</td>\n",
       "      <td>[]</td>\n",
       "      <td>her</td>\n",
       "    </tr>\n",
       "    <tr>\n",
       "      <th>1</th>\n",
       "      <td>One day her mother said to her, \"Come Little R...</td>\n",
       "      <td>fill_missing_prp</td>\n",
       "      <td>Впишите пропущенное притяжательное местоимение</td>\n",
       "      <td>One day _____ mother said to her, \"Come Little...</td>\n",
       "      <td>[]</td>\n",
       "      <td>her</td>\n",
       "    </tr>\n",
       "    <tr>\n",
       "      <th>2</th>\n",
       "      <td>Take them to your grandmother.</td>\n",
       "      <td>fill_missing_prp</td>\n",
       "      <td>Впишите пропущенное притяжательное местоимение</td>\n",
       "      <td>Take them to _____ grandmother.</td>\n",
       "      <td>[]</td>\n",
       "      <td>your</td>\n",
       "    </tr>\n",
       "    <tr>\n",
       "      <th>3</th>\n",
       "      <td>Mind your manners and give her my greetings.</td>\n",
       "      <td>fill_missing_prp</td>\n",
       "      <td>Впишите пропущенное притяжательное местоимение</td>\n",
       "      <td>Mind _____ manners and give her my greetings.</td>\n",
       "      <td>[]</td>\n",
       "      <td>your</td>\n",
       "    </tr>\n",
       "    <tr>\n",
       "      <th>4</th>\n",
       "      <td>Behave yourself on the way, and do not leave t...</td>\n",
       "      <td>fill_missing_prp</td>\n",
       "      <td>Впишите пропущенное притяжательное местоимение</td>\n",
       "      <td>Behave yourself on the way, and do not leave t...</td>\n",
       "      <td>[]</td>\n",
       "      <td>your</td>\n",
       "    </tr>\n",
       "  </tbody>\n",
       "</table>\n",
       "</div>"
      ],
      "text/plain": [
       "                                            sentence              type  \\\n",
       "0  Everyone who saw her liked her, but most of al...  fill_missing_prp   \n",
       "1  One day her mother said to her, \"Come Little R...  fill_missing_prp   \n",
       "2                     Take them to your grandmother.  fill_missing_prp   \n",
       "3       Mind your manners and give her my greetings.  fill_missing_prp   \n",
       "4  Behave yourself on the way, and do not leave t...  fill_missing_prp   \n",
       "\n",
       "                                      description  \\\n",
       "0  Впишите пропущенное притяжательное местоимение   \n",
       "1  Впишите пропущенное притяжательное местоимение   \n",
       "2  Впишите пропущенное притяжательное местоимение   \n",
       "3  Впишите пропущенное притяжательное местоимение   \n",
       "4  Впишите пропущенное притяжательное местоимение   \n",
       "\n",
       "                                              object response_options  \\\n",
       "0  Everyone who saw _____ liked her, but most of ...               []   \n",
       "1  One day _____ mother said to her, \"Come Little...               []   \n",
       "2                    Take them to _____ grandmother.               []   \n",
       "3      Mind _____ manners and give her my greetings.               []   \n",
       "4  Behave yourself on the way, and do not leave t...               []   \n",
       "\n",
       "  right_answer  \n",
       "0          her  \n",
       "1          her  \n",
       "2         your  \n",
       "3         your  \n",
       "4         your  "
      ]
     },
     "execution_count": 35,
     "metadata": {},
     "output_type": "execute_result"
    }
   ],
   "source": [
    "df_6.head()"
   ]
  },
  {
   "cell_type": "code",
   "execution_count": 36,
   "id": "3c9d639c",
   "metadata": {},
   "outputs": [
    {
     "data": {
      "text/plain": [
       "(22, 6)"
      ]
     },
     "execution_count": 36,
     "metadata": {},
     "output_type": "execute_result"
    }
   ],
   "source": [
    "df_6.shape"
   ]
  },
  {
   "cell_type": "code",
   "execution_count": 37,
   "id": "fc4c8b4e",
   "metadata": {},
   "outputs": [
    {
     "data": {
      "text/plain": [
       "array(['her', 'your', 'Her', 'my', 'his'], dtype=object)"
      ]
     },
     "execution_count": 37,
     "metadata": {},
     "output_type": "execute_result"
    }
   ],
   "source": [
    "df_6.right_answer.unique()"
   ]
  },
  {
   "cell_type": "markdown",
   "id": "ca6a268d",
   "metadata": {},
   "source": [
    "### Структура предложения"
   ]
  },
  {
   "cell_type": "markdown",
   "id": "31568d28",
   "metadata": {},
   "source": [
    "#### Группа слов существительного"
   ]
  },
  {
   "cell_type": "code",
   "execution_count": 38,
   "id": "b7e3ff28",
   "metadata": {},
   "outputs": [],
   "source": [
    "def determine_type_of_noun_phrases(row):\n",
    "    chunk_list = [ch for ch in nlp(row['sentence']).noun_chunks if len(ch) > 2]\n",
    "    if len(chunk_list) < 2 or detect(row['sentence']) != 'en':\n",
    "        return row\n",
    "    noun_chunk = random.choice(chunk_list)\n",
    "    response_options = list({spacy.explain(ch.root.dep_) for ch in nlp(row['sentence']).noun_chunks})\n",
    "    if len(response_options) < 2:\n",
    "        return row\n",
    "    random.shuffle(response_options)\n",
    "    \n",
    "    row['type'] = 'base_noun_phrases'\n",
    "    row['description'] = 'Чем является главное существительное в выделенной фразе'\n",
    "    row['object'] = re.sub(fr'\\b({noun_chunk.text})\\b', r'**\\1**', row['sentence'])\n",
    "    row['response_options'] = response_options\n",
    "    row['right_answer'] = spacy.explain(noun_chunk.root.dep_)\n",
    "    return row"
   ]
  },
  {
   "cell_type": "code",
   "execution_count": 39,
   "id": "da9f30bc",
   "metadata": {},
   "outputs": [],
   "source": [
    "df_7 = (df\n",
    "        .copy()\n",
    "        .apply(determine_type_of_noun_phrases, axis=1)\n",
    "        .dropna().reset_index(drop=True))"
   ]
  },
  {
   "cell_type": "code",
   "execution_count": 40,
   "id": "a4e703d4",
   "metadata": {},
   "outputs": [
    {
     "data": {
      "text/html": [
       "<div>\n",
       "<style scoped>\n",
       "    .dataframe tbody tr th:only-of-type {\n",
       "        vertical-align: middle;\n",
       "    }\n",
       "\n",
       "    .dataframe tbody tr th {\n",
       "        vertical-align: top;\n",
       "    }\n",
       "\n",
       "    .dataframe thead th {\n",
       "        text-align: right;\n",
       "    }\n",
       "</style>\n",
       "<table border=\"1\" class=\"dataframe\">\n",
       "  <thead>\n",
       "    <tr style=\"text-align: right;\">\n",
       "      <th></th>\n",
       "      <th>sentence</th>\n",
       "      <th>type</th>\n",
       "      <th>description</th>\n",
       "      <th>object</th>\n",
       "      <th>response_options</th>\n",
       "      <th>right_answer</th>\n",
       "    </tr>\n",
       "  </thead>\n",
       "  <tbody>\n",
       "    <tr>\n",
       "      <th>0</th>\n",
       "      <td>\"Her house is a good quarter hour from here in...</td>\n",
       "      <td>base_noun_phrases</td>\n",
       "      <td>Чем является главное существительное в выделен...</td>\n",
       "      <td>\"Her house is a good quarter hour from here in...</td>\n",
       "      <td>[attribute, object of preposition, nominal sub...</td>\n",
       "      <td>object of preposition</td>\n",
       "    </tr>\n",
       "    <tr>\n",
       "      <th>1</th>\n",
       "      <td>\"Oh, grandmother, what big ears you have!\"</td>\n",
       "      <td>base_noun_phrases</td>\n",
       "      <td>Чем является главное существительное в выделен...</td>\n",
       "      <td>\"**Oh, grandmother**, what big ears you have!\"</td>\n",
       "      <td>[direct object, nominal subject]</td>\n",
       "      <td>direct object</td>\n",
       "    </tr>\n",
       "    <tr>\n",
       "      <th>2</th>\n",
       "      <td>\"Oh, grandmother, what big eyes you have!\"</td>\n",
       "      <td>base_noun_phrases</td>\n",
       "      <td>Чем является главное существительное в выделен...</td>\n",
       "      <td>\"Oh, grandmother, **what big eyes** you have!\"</td>\n",
       "      <td>[direct object, nominal subject]</td>\n",
       "      <td>direct object</td>\n",
       "    </tr>\n",
       "    <tr>\n",
       "      <th>3</th>\n",
       "      <td>\"Oh, grandmother, what big hands you have!\"</td>\n",
       "      <td>base_noun_phrases</td>\n",
       "      <td>Чем является главное существительное в выделен...</td>\n",
       "      <td>\"Oh, grandmother, **what big hands** you have!\"</td>\n",
       "      <td>[nominal subject, direct object]</td>\n",
       "      <td>direct object</td>\n",
       "    </tr>\n",
       "    <tr>\n",
       "      <th>4</th>\n",
       "      <td>\"Oh, grandmother, what a horribly big mouth yo...</td>\n",
       "      <td>base_noun_phrases</td>\n",
       "      <td>Чем является главное существительное в выделен...</td>\n",
       "      <td>\"**Oh, grandmother**, what a horribly big mout...</td>\n",
       "      <td>[nominal subject, direct object]</td>\n",
       "      <td>direct object</td>\n",
       "    </tr>\n",
       "  </tbody>\n",
       "</table>\n",
       "</div>"
      ],
      "text/plain": [
       "                                            sentence               type  \\\n",
       "0  \"Her house is a good quarter hour from here in...  base_noun_phrases   \n",
       "1         \"Oh, grandmother, what big ears you have!\"  base_noun_phrases   \n",
       "2         \"Oh, grandmother, what big eyes you have!\"  base_noun_phrases   \n",
       "3        \"Oh, grandmother, what big hands you have!\"  base_noun_phrases   \n",
       "4  \"Oh, grandmother, what a horribly big mouth yo...  base_noun_phrases   \n",
       "\n",
       "                                         description  \\\n",
       "0  Чем является главное существительное в выделен...   \n",
       "1  Чем является главное существительное в выделен...   \n",
       "2  Чем является главное существительное в выделен...   \n",
       "3  Чем является главное существительное в выделен...   \n",
       "4  Чем является главное существительное в выделен...   \n",
       "\n",
       "                                              object  \\\n",
       "0  \"Her house is a good quarter hour from here in...   \n",
       "1     \"**Oh, grandmother**, what big ears you have!\"   \n",
       "2     \"Oh, grandmother, **what big eyes** you have!\"   \n",
       "3    \"Oh, grandmother, **what big hands** you have!\"   \n",
       "4  \"**Oh, grandmother**, what a horribly big mout...   \n",
       "\n",
       "                                    response_options           right_answer  \n",
       "0  [attribute, object of preposition, nominal sub...  object of preposition  \n",
       "1                   [direct object, nominal subject]          direct object  \n",
       "2                   [direct object, nominal subject]          direct object  \n",
       "3                   [nominal subject, direct object]          direct object  \n",
       "4                   [nominal subject, direct object]          direct object  "
      ]
     },
     "execution_count": 40,
     "metadata": {},
     "output_type": "execute_result"
    }
   ],
   "source": [
    "df_7.head()"
   ]
  },
  {
   "cell_type": "code",
   "execution_count": 41,
   "id": "1b5102e1",
   "metadata": {},
   "outputs": [
    {
     "data": {
      "text/plain": [
       "(14, 6)"
      ]
     },
     "execution_count": 41,
     "metadata": {},
     "output_type": "execute_result"
    }
   ],
   "source": [
    "df_7.shape"
   ]
  },
  {
   "cell_type": "code",
   "execution_count": 42,
   "id": "c8a57326",
   "metadata": {},
   "outputs": [
    {
     "data": {
      "text/plain": [
       "array(['object of preposition', 'direct object', 'nominal subject',\n",
       "       'attribute', 'appositional modifier'], dtype=object)"
      ]
     },
     "execution_count": 42,
     "metadata": {},
     "output_type": "execute_result"
    }
   ],
   "source": [
    "df_7.right_answer.unique()"
   ]
  },
  {
   "cell_type": "markdown",
   "id": "dd885d31",
   "metadata": {},
   "source": [
    "#### Части речи"
   ]
  },
  {
   "cell_type": "code",
   "execution_count": 43,
   "id": "d4fbdec0",
   "metadata": {},
   "outputs": [],
   "source": [
    "def restore_order_of_parts_of_speech(row):\n",
    "    sentence = re.sub('\"', '', contractions.fix(row['sentence']))\n",
    "    token_list = [spacy.explain(token.pos_) for token in nlp(sentence)]\n",
    "    if len(token_list) < 3 or len(token_list) > 10 or detect(row['sentence']) != 'en':\n",
    "        return row\n",
    "\n",
    "    response_options = token_list[:]\n",
    "    random.shuffle(response_options)\n",
    "    \n",
    "    row['type'] = 'part_of_speech'\n",
    "    row['description'] = 'Восстановите порядок следования частей речи в предложении'\n",
    "    row['object'] = sentence\n",
    "    row['response_options'] = response_options\n",
    "    row['right_answer'] = token_list\n",
    "    return row"
   ]
  },
  {
   "cell_type": "code",
   "execution_count": 44,
   "id": "6946dec9",
   "metadata": {},
   "outputs": [],
   "source": [
    "df_8 = (df\n",
    "        .copy()\n",
    "        .apply(restore_order_of_parts_of_speech, axis=1)\n",
    "        .dropna().reset_index(drop=True))"
   ]
  },
  {
   "cell_type": "code",
   "execution_count": 45,
   "id": "eb3d23b5",
   "metadata": {},
   "outputs": [
    {
     "data": {
      "text/html": [
       "<div>\n",
       "<style scoped>\n",
       "    .dataframe tbody tr th:only-of-type {\n",
       "        vertical-align: middle;\n",
       "    }\n",
       "\n",
       "    .dataframe tbody tr th {\n",
       "        vertical-align: top;\n",
       "    }\n",
       "\n",
       "    .dataframe thead th {\n",
       "        text-align: right;\n",
       "    }\n",
       "</style>\n",
       "<table border=\"1\" class=\"dataframe\">\n",
       "  <thead>\n",
       "    <tr style=\"text-align: right;\">\n",
       "      <th></th>\n",
       "      <th>sentence</th>\n",
       "      <th>type</th>\n",
       "      <th>description</th>\n",
       "      <th>object</th>\n",
       "      <th>response_options</th>\n",
       "      <th>right_answer</th>\n",
       "    </tr>\n",
       "  </thead>\n",
       "  <tbody>\n",
       "    <tr>\n",
       "      <th>0</th>\n",
       "      <td>Little Red Cap</td>\n",
       "      <td>part_of_speech</td>\n",
       "      <td>Восстановите порядок следования частей речи в ...</td>\n",
       "      <td>Little Red Cap</td>\n",
       "      <td>[proper noun, proper noun, adjective]</td>\n",
       "      <td>[adjective, proper noun, proper noun]</td>\n",
       "    </tr>\n",
       "    <tr>\n",
       "      <th>1</th>\n",
       "      <td>Jacob and Wilhelm Grimm</td>\n",
       "      <td>part_of_speech</td>\n",
       "      <td>Восстановите порядок следования частей речи в ...</td>\n",
       "      <td>Jacob and Wilhelm Grimm</td>\n",
       "      <td>[coordinating conjunction, proper noun, proper...</td>\n",
       "      <td>[proper noun, coordinating conjunction, proper...</td>\n",
       "    </tr>\n",
       "    <tr>\n",
       "      <th>2</th>\n",
       "      <td>Take them to your grandmother.</td>\n",
       "      <td>part_of_speech</td>\n",
       "      <td>Восстановите порядок следования частей речи в ...</td>\n",
       "      <td>Take them to your grandmother.</td>\n",
       "      <td>[adposition, pronoun, noun, verb, punctuation,...</td>\n",
       "      <td>[verb, pronoun, adposition, pronoun, noun, pun...</td>\n",
       "    </tr>\n",
       "    <tr>\n",
       "      <th>3</th>\n",
       "      <td>Mind your manners and give her my greetings.</td>\n",
       "      <td>part_of_speech</td>\n",
       "      <td>Восстановите порядок следования частей речи в ...</td>\n",
       "      <td>Mind your manners and give her my greetings.</td>\n",
       "      <td>[pronoun, noun, pronoun, coordinating conjunct...</td>\n",
       "      <td>[verb, pronoun, noun, coordinating conjunction...</td>\n",
       "    </tr>\n",
       "    <tr>\n",
       "      <th>4</th>\n",
       "      <td>Little Red Cap promised to obey her mother.</td>\n",
       "      <td>part_of_speech</td>\n",
       "      <td>Восстановите порядок следования частей речи в ...</td>\n",
       "      <td>Little Red Cap promised to obey her mother.</td>\n",
       "      <td>[proper noun, verb, punctuation, proper noun, ...</td>\n",
       "      <td>[adjective, proper noun, proper noun, verb, pa...</td>\n",
       "    </tr>\n",
       "  </tbody>\n",
       "</table>\n",
       "</div>"
      ],
      "text/plain": [
       "                                       sentence            type  \\\n",
       "0                                Little Red Cap  part_of_speech   \n",
       "1                       Jacob and Wilhelm Grimm  part_of_speech   \n",
       "2                Take them to your grandmother.  part_of_speech   \n",
       "3  Mind your manners and give her my greetings.  part_of_speech   \n",
       "4   Little Red Cap promised to obey her mother.  part_of_speech   \n",
       "\n",
       "                                         description  \\\n",
       "0  Восстановите порядок следования частей речи в ...   \n",
       "1  Восстановите порядок следования частей речи в ...   \n",
       "2  Восстановите порядок следования частей речи в ...   \n",
       "3  Восстановите порядок следования частей речи в ...   \n",
       "4  Восстановите порядок следования частей речи в ...   \n",
       "\n",
       "                                         object  \\\n",
       "0                                Little Red Cap   \n",
       "1                       Jacob and Wilhelm Grimm   \n",
       "2                Take them to your grandmother.   \n",
       "3  Mind your manners and give her my greetings.   \n",
       "4   Little Red Cap promised to obey her mother.   \n",
       "\n",
       "                                    response_options  \\\n",
       "0              [proper noun, proper noun, adjective]   \n",
       "1  [coordinating conjunction, proper noun, proper...   \n",
       "2  [adposition, pronoun, noun, verb, punctuation,...   \n",
       "3  [pronoun, noun, pronoun, coordinating conjunct...   \n",
       "4  [proper noun, verb, punctuation, proper noun, ...   \n",
       "\n",
       "                                        right_answer  \n",
       "0              [adjective, proper noun, proper noun]  \n",
       "1  [proper noun, coordinating conjunction, proper...  \n",
       "2  [verb, pronoun, adposition, pronoun, noun, pun...  \n",
       "3  [verb, pronoun, noun, coordinating conjunction...  \n",
       "4  [adjective, proper noun, proper noun, verb, pa...  "
      ]
     },
     "execution_count": 45,
     "metadata": {},
     "output_type": "execute_result"
    }
   ],
   "source": [
    "df_8.head()"
   ]
  },
  {
   "cell_type": "code",
   "execution_count": 46,
   "id": "be7a739d",
   "metadata": {},
   "outputs": [
    {
     "data": {
      "text/plain": [
       "(37, 6)"
      ]
     },
     "execution_count": 46,
     "metadata": {},
     "output_type": "execute_result"
    }
   ],
   "source": [
    "df_8.shape"
   ]
  },
  {
   "cell_type": "markdown",
   "id": "c1df16fa",
   "metadata": {},
   "source": [
    "#### Расстановка слов в правильном порядке"
   ]
  },
  {
   "cell_type": "code",
   "execution_count": 47,
   "id": "11ea735c",
   "metadata": {},
   "outputs": [],
   "source": [
    "def restore_word_order(row):\n",
    "    sentence = re.sub('\"', '', contractions.fix(row['sentence']))\n",
    "    token_list = [token.text for token in nlp(sentence)]\n",
    "    if len(token_list) < 3 or len(token_list) > 9 or detect(row['sentence']) != 'en':\n",
    "        return row\n",
    "\n",
    "    response_options = token_list[:]\n",
    "    random.shuffle(response_options)\n",
    "    \n",
    "    row['type'] = 'word_order'\n",
    "    row['description'] = 'Расставьте слова предложения в правильном порядке'\n",
    "    row['object'] = ' '\n",
    "    row['response_options'] = response_options\n",
    "    row['right_answer'] = token_list\n",
    "    return row"
   ]
  },
  {
   "cell_type": "code",
   "execution_count": 48,
   "id": "122287b5",
   "metadata": {},
   "outputs": [],
   "source": [
    "df_9 = (df\n",
    "        .copy()\n",
    "        .apply(restore_word_order, axis=1)\n",
    "        .dropna().reset_index(drop=True))"
   ]
  },
  {
   "cell_type": "code",
   "execution_count": 49,
   "id": "b4f509e2",
   "metadata": {},
   "outputs": [
    {
     "data": {
      "text/html": [
       "<div>\n",
       "<style scoped>\n",
       "    .dataframe tbody tr th:only-of-type {\n",
       "        vertical-align: middle;\n",
       "    }\n",
       "\n",
       "    .dataframe tbody tr th {\n",
       "        vertical-align: top;\n",
       "    }\n",
       "\n",
       "    .dataframe thead th {\n",
       "        text-align: right;\n",
       "    }\n",
       "</style>\n",
       "<table border=\"1\" class=\"dataframe\">\n",
       "  <thead>\n",
       "    <tr style=\"text-align: right;\">\n",
       "      <th></th>\n",
       "      <th>sentence</th>\n",
       "      <th>type</th>\n",
       "      <th>description</th>\n",
       "      <th>object</th>\n",
       "      <th>response_options</th>\n",
       "      <th>right_answer</th>\n",
       "    </tr>\n",
       "  </thead>\n",
       "  <tbody>\n",
       "    <tr>\n",
       "      <th>0</th>\n",
       "      <td>Little Red Cap</td>\n",
       "      <td>word_order</td>\n",
       "      <td>Расставьте слова предложения в правильном порядке</td>\n",
       "      <td></td>\n",
       "      <td>[Cap, Little, Red]</td>\n",
       "      <td>[Little, Red, Cap]</td>\n",
       "    </tr>\n",
       "    <tr>\n",
       "      <th>1</th>\n",
       "      <td>Jacob and Wilhelm Grimm</td>\n",
       "      <td>word_order</td>\n",
       "      <td>Расставьте слова предложения в правильном порядке</td>\n",
       "      <td></td>\n",
       "      <td>[and, Grimm, Wilhelm, Jacob]</td>\n",
       "      <td>[Jacob, and, Wilhelm, Grimm]</td>\n",
       "    </tr>\n",
       "    <tr>\n",
       "      <th>2</th>\n",
       "      <td>Take them to your grandmother.</td>\n",
       "      <td>word_order</td>\n",
       "      <td>Расставьте слова предложения в правильном порядке</td>\n",
       "      <td></td>\n",
       "      <td>[Take, grandmother, them, ., your, to]</td>\n",
       "      <td>[Take, them, to, your, grandmother, .]</td>\n",
       "    </tr>\n",
       "    <tr>\n",
       "      <th>3</th>\n",
       "      <td>Mind your manners and give her my greetings.</td>\n",
       "      <td>word_order</td>\n",
       "      <td>Расставьте слова предложения в правильном порядке</td>\n",
       "      <td></td>\n",
       "      <td>[greetings, ., her, Mind, give, my, and, your,...</td>\n",
       "      <td>[Mind, your, manners, and, give, her, my, gree...</td>\n",
       "    </tr>\n",
       "    <tr>\n",
       "      <th>4</th>\n",
       "      <td>Little Red Cap promised to obey her mother.</td>\n",
       "      <td>word_order</td>\n",
       "      <td>Расставьте слова предложения в правильном порядке</td>\n",
       "      <td></td>\n",
       "      <td>[to, mother, obey, Little, ., Cap, her, Red, p...</td>\n",
       "      <td>[Little, Red, Cap, promised, to, obey, her, mo...</td>\n",
       "    </tr>\n",
       "  </tbody>\n",
       "</table>\n",
       "</div>"
      ],
      "text/plain": [
       "                                       sentence        type  \\\n",
       "0                                Little Red Cap  word_order   \n",
       "1                       Jacob and Wilhelm Grimm  word_order   \n",
       "2                Take them to your grandmother.  word_order   \n",
       "3  Mind your manners and give her my greetings.  word_order   \n",
       "4   Little Red Cap promised to obey her mother.  word_order   \n",
       "\n",
       "                                         description object  \\\n",
       "0  Расставьте слова предложения в правильном порядке          \n",
       "1  Расставьте слова предложения в правильном порядке          \n",
       "2  Расставьте слова предложения в правильном порядке          \n",
       "3  Расставьте слова предложения в правильном порядке          \n",
       "4  Расставьте слова предложения в правильном порядке          \n",
       "\n",
       "                                    response_options  \\\n",
       "0                                 [Cap, Little, Red]   \n",
       "1                       [and, Grimm, Wilhelm, Jacob]   \n",
       "2             [Take, grandmother, them, ., your, to]   \n",
       "3  [greetings, ., her, Mind, give, my, and, your,...   \n",
       "4  [to, mother, obey, Little, ., Cap, her, Red, p...   \n",
       "\n",
       "                                        right_answer  \n",
       "0                                 [Little, Red, Cap]  \n",
       "1                       [Jacob, and, Wilhelm, Grimm]  \n",
       "2             [Take, them, to, your, grandmother, .]  \n",
       "3  [Mind, your, manners, and, give, her, my, gree...  \n",
       "4  [Little, Red, Cap, promised, to, obey, her, mo...  "
      ]
     },
     "execution_count": 49,
     "metadata": {},
     "output_type": "execute_result"
    }
   ],
   "source": [
    "df_9.head()"
   ]
  },
  {
   "cell_type": "code",
   "execution_count": 50,
   "id": "decc7b88",
   "metadata": {},
   "outputs": [
    {
     "data": {
      "text/plain": [
       "(28, 6)"
      ]
     },
     "execution_count": 50,
     "metadata": {},
     "output_type": "execute_result"
    }
   ],
   "source": [
    "df_9.shape"
   ]
  },
  {
   "cell_type": "markdown",
   "id": "047d6092",
   "metadata": {},
   "source": [
    "### Выбор верного предложения"
   ]
  },
  {
   "cell_type": "code",
   "execution_count": 51,
   "id": "56aaf124",
   "metadata": {},
   "outputs": [],
   "source": [
    "def select_correct_sentence(row):\n",
    "    sentence = re.sub('\"', '', contractions.fix(row['sentence']))\n",
    "    sentence = re.sub(r'\\b(can)(not)\\b', r'\\1 \\2', sentence, flags=re.IGNORECASE)\n",
    "    sentence_1, sentence_2 = sentence, sentence\n",
    "\n",
    "    token_list = [token.text for token in nlp(sentence) if token.pos_ in ['VERB', 'AUX']]\n",
    "    if len(token_list) == 0 or detect(row['sentence']) != 'en':\n",
    "        return row\n",
    "    \n",
    "    try:\n",
    "        random.shuffle(token_list)\n",
    "        word_count = 0\n",
    "        while word_count < len(token_list) and word_count <= 1:\n",
    "            words = list(get_word_forms(token_list[word_count].lower())['v'])\n",
    "            if not words:\n",
    "                return row\n",
    "            words = [w for w in words if not(\"n't\" in w or ' not' in w or w == token_list[word_count].lower())]\n",
    "            if len(words) < 2:\n",
    "                return row\n",
    "\n",
    "            if token_list[word_count].istitle():\n",
    "                words = [w.title() for w in words]\n",
    "            random.shuffle(words)\n",
    "\n",
    "            sentence_1 = re.sub(fr'\\b{token_list[word_count]}\\b', words[0], sentence_1, count=1)\n",
    "            sentence_2 = re.sub(fr'\\b{token_list[word_count]}\\b', words[1], sentence_2, count=1)\n",
    "            word_count += 1\n",
    "\n",
    "        response_options = [sentence, sentence_1, sentence_2]\n",
    "        random.shuffle(response_options)\n",
    "        row['type'] = 'select_sentence'\n",
    "        row['description'] = 'Выберите верное предложение'\n",
    "        row['object'] = ' '\n",
    "        row['response_options'] = response_options\n",
    "        row['right_answer'] = sentence\n",
    "    except:\n",
    "        pass\n",
    "    return row"
   ]
  },
  {
   "cell_type": "code",
   "execution_count": 52,
   "id": "1aa9b1a4",
   "metadata": {},
   "outputs": [
    {
     "data": {
      "text/html": [
       "<div>\n",
       "<style scoped>\n",
       "    .dataframe tbody tr th:only-of-type {\n",
       "        vertical-align: middle;\n",
       "    }\n",
       "\n",
       "    .dataframe tbody tr th {\n",
       "        vertical-align: top;\n",
       "    }\n",
       "\n",
       "    .dataframe thead th {\n",
       "        text-align: right;\n",
       "    }\n",
       "</style>\n",
       "<table border=\"1\" class=\"dataframe\">\n",
       "  <thead>\n",
       "    <tr style=\"text-align: right;\">\n",
       "      <th></th>\n",
       "      <th>sentence</th>\n",
       "      <th>type</th>\n",
       "      <th>description</th>\n",
       "      <th>object</th>\n",
       "      <th>response_options</th>\n",
       "      <th>right_answer</th>\n",
       "    </tr>\n",
       "  </thead>\n",
       "  <tbody>\n",
       "    <tr>\n",
       "      <th>0</th>\n",
       "      <td>Little Red Cap</td>\n",
       "      <td>NaN</td>\n",
       "      <td>NaN</td>\n",
       "      <td>NaN</td>\n",
       "      <td>NaN</td>\n",
       "      <td>NaN</td>\n",
       "    </tr>\n",
       "    <tr>\n",
       "      <th>1</th>\n",
       "      <td>Jacob and Wilhelm Grimm</td>\n",
       "      <td>NaN</td>\n",
       "      <td>NaN</td>\n",
       "      <td>NaN</td>\n",
       "      <td>NaN</td>\n",
       "      <td>NaN</td>\n",
       "    </tr>\n",
       "    <tr>\n",
       "      <th>2</th>\n",
       "      <td>Once upon a time there was a sweet little girl.</td>\n",
       "      <td>select_sentence</td>\n",
       "      <td>Выберите верное предложение</td>\n",
       "      <td></td>\n",
       "      <td>[Once upon a time there was a sweet little gir...</td>\n",
       "      <td>Once upon a time there was a sweet little girl.</td>\n",
       "    </tr>\n",
       "    <tr>\n",
       "      <th>3</th>\n",
       "      <td>Everyone who saw her liked her, but most of al...</td>\n",
       "      <td>select_sentence</td>\n",
       "      <td>Выберите верное предложение</td>\n",
       "      <td></td>\n",
       "      <td>[Everyone who saw her likes her, but most of a...</td>\n",
       "      <td>Everyone who saw her liked her, but most of al...</td>\n",
       "    </tr>\n",
       "    <tr>\n",
       "      <th>4</th>\n",
       "      <td>Once she gave her a little cap made of red vel...</td>\n",
       "      <td>select_sentence</td>\n",
       "      <td>Выберите верное предложение</td>\n",
       "      <td></td>\n",
       "      <td>[Once she gave her a little cap made of red ve...</td>\n",
       "      <td>Once she gave her a little cap made of red vel...</td>\n",
       "    </tr>\n",
       "    <tr>\n",
       "      <th>...</th>\n",
       "      <td>...</td>\n",
       "      <td>...</td>\n",
       "      <td>...</td>\n",
       "      <td>...</td>\n",
       "      <td>...</td>\n",
       "      <td>...</td>\n",
       "    </tr>\n",
       "    <tr>\n",
       "      <th>107</th>\n",
       "      <td>Marie Hassenpflug (1788-1856) provided them wi...</td>\n",
       "      <td>select_sentence</td>\n",
       "      <td>Выберите верное предложение</td>\n",
       "      <td></td>\n",
       "      <td>[Marie Hassenpflug (1788-1856) provided them w...</td>\n",
       "      <td>Marie Hassenpflug (1788-1856) provided them wi...</td>\n",
       "    </tr>\n",
       "    <tr>\n",
       "      <th>108</th>\n",
       "      <td>The German title of this tale is Rotkäppchen (...</td>\n",
       "      <td>select_sentence</td>\n",
       "      <td>Выберите верное предложение</td>\n",
       "      <td></td>\n",
       "      <td>[The German title of this tale was Rotkäppchen...</td>\n",
       "      <td>The German title of this tale is Rotkäppchen (...</td>\n",
       "    </tr>\n",
       "    <tr>\n",
       "      <th>109</th>\n",
       "      <td>Link to an English translation of the Grimms' ...</td>\n",
       "      <td>select_sentence</td>\n",
       "      <td>Выберите верное предложение</td>\n",
       "      <td></td>\n",
       "      <td>[Linking to an English translation of the Grim...</td>\n",
       "      <td>Link to an English translation of the Grimms' ...</td>\n",
       "    </tr>\n",
       "    <tr>\n",
       "      <th>110</th>\n",
       "      <td>Link to the German text of the Grimms' final v...</td>\n",
       "      <td>NaN</td>\n",
       "      <td>NaN</td>\n",
       "      <td>NaN</td>\n",
       "      <td>NaN</td>\n",
       "      <td>NaN</td>\n",
       "    </tr>\n",
       "    <tr>\n",
       "      <th>111</th>\n",
       "      <td>1 (Göttingen: Verlag der Dieterichschen Buchha...</td>\n",
       "      <td>NaN</td>\n",
       "      <td>NaN</td>\n",
       "      <td>NaN</td>\n",
       "      <td>NaN</td>\n",
       "      <td>NaN</td>\n",
       "    </tr>\n",
       "  </tbody>\n",
       "</table>\n",
       "<p>112 rows × 6 columns</p>\n",
       "</div>"
      ],
      "text/plain": [
       "                                              sentence             type  \\\n",
       "0                                       Little Red Cap              NaN   \n",
       "1                              Jacob and Wilhelm Grimm              NaN   \n",
       "2      Once upon a time there was a sweet little girl.  select_sentence   \n",
       "3    Everyone who saw her liked her, but most of al...  select_sentence   \n",
       "4    Once she gave her a little cap made of red vel...  select_sentence   \n",
       "..                                                 ...              ...   \n",
       "107  Marie Hassenpflug (1788-1856) provided them wi...  select_sentence   \n",
       "108  The German title of this tale is Rotkäppchen (...  select_sentence   \n",
       "109  Link to an English translation of the Grimms' ...  select_sentence   \n",
       "110  Link to the German text of the Grimms' final v...              NaN   \n",
       "111  1 (Göttingen: Verlag der Dieterichschen Buchha...              NaN   \n",
       "\n",
       "                     description object  \\\n",
       "0                            NaN    NaN   \n",
       "1                            NaN    NaN   \n",
       "2    Выберите верное предложение          \n",
       "3    Выберите верное предложение          \n",
       "4    Выберите верное предложение          \n",
       "..                           ...    ...   \n",
       "107  Выберите верное предложение          \n",
       "108  Выберите верное предложение          \n",
       "109  Выберите верное предложение          \n",
       "110                          NaN    NaN   \n",
       "111                          NaN    NaN   \n",
       "\n",
       "                                      response_options  \\\n",
       "0                                                  NaN   \n",
       "1                                                  NaN   \n",
       "2    [Once upon a time there was a sweet little gir...   \n",
       "3    [Everyone who saw her likes her, but most of a...   \n",
       "4    [Once she gave her a little cap made of red ve...   \n",
       "..                                                 ...   \n",
       "107  [Marie Hassenpflug (1788-1856) provided them w...   \n",
       "108  [The German title of this tale was Rotkäppchen...   \n",
       "109  [Linking to an English translation of the Grim...   \n",
       "110                                                NaN   \n",
       "111                                                NaN   \n",
       "\n",
       "                                          right_answer  \n",
       "0                                                  NaN  \n",
       "1                                                  NaN  \n",
       "2      Once upon a time there was a sweet little girl.  \n",
       "3    Everyone who saw her liked her, but most of al...  \n",
       "4    Once she gave her a little cap made of red vel...  \n",
       "..                                                 ...  \n",
       "107  Marie Hassenpflug (1788-1856) provided them wi...  \n",
       "108  The German title of this tale is Rotkäppchen (...  \n",
       "109  Link to an English translation of the Grimms' ...  \n",
       "110                                                NaN  \n",
       "111                                                NaN  \n",
       "\n",
       "[112 rows x 6 columns]"
      ]
     },
     "execution_count": 52,
     "metadata": {},
     "output_type": "execute_result"
    }
   ],
   "source": [
    "df_10 = df.copy().apply(select_correct_sentence, axis=1)\n",
    "df_10"
   ]
  },
  {
   "cell_type": "code",
   "execution_count": 53,
   "id": "9a44e6a7",
   "metadata": {},
   "outputs": [],
   "source": [
    "df_10 = (df\n",
    "        .copy()\n",
    "        .apply(select_correct_sentence, axis=1)\n",
    "        .dropna().reset_index(drop=True))"
   ]
  },
  {
   "cell_type": "code",
   "execution_count": 54,
   "id": "6812689d",
   "metadata": {},
   "outputs": [
    {
     "data": {
      "text/html": [
       "<div>\n",
       "<style scoped>\n",
       "    .dataframe tbody tr th:only-of-type {\n",
       "        vertical-align: middle;\n",
       "    }\n",
       "\n",
       "    .dataframe tbody tr th {\n",
       "        vertical-align: top;\n",
       "    }\n",
       "\n",
       "    .dataframe thead th {\n",
       "        text-align: right;\n",
       "    }\n",
       "</style>\n",
       "<table border=\"1\" class=\"dataframe\">\n",
       "  <thead>\n",
       "    <tr style=\"text-align: right;\">\n",
       "      <th></th>\n",
       "      <th>sentence</th>\n",
       "      <th>type</th>\n",
       "      <th>description</th>\n",
       "      <th>object</th>\n",
       "      <th>response_options</th>\n",
       "      <th>right_answer</th>\n",
       "    </tr>\n",
       "  </thead>\n",
       "  <tbody>\n",
       "    <tr>\n",
       "      <th>0</th>\n",
       "      <td>Once upon a time there was a sweet little girl.</td>\n",
       "      <td>select_sentence</td>\n",
       "      <td>Выберите верное предложение</td>\n",
       "      <td></td>\n",
       "      <td>[Once upon a time there am a sweet little girl...</td>\n",
       "      <td>Once upon a time there was a sweet little girl.</td>\n",
       "    </tr>\n",
       "    <tr>\n",
       "      <th>1</th>\n",
       "      <td>Everyone who saw her liked her, but most of al...</td>\n",
       "      <td>select_sentence</td>\n",
       "      <td>Выберите верное предложение</td>\n",
       "      <td></td>\n",
       "      <td>[Everyone who saw her likes her, but most of a...</td>\n",
       "      <td>Everyone who saw her liked her, but most of al...</td>\n",
       "    </tr>\n",
       "    <tr>\n",
       "      <th>2</th>\n",
       "      <td>Once she gave her a little cap made of red vel...</td>\n",
       "      <td>select_sentence</td>\n",
       "      <td>Выберите верное предложение</td>\n",
       "      <td></td>\n",
       "      <td>[Once she given her a little cap makes of red ...</td>\n",
       "      <td>Once she gave her a little cap made of red vel...</td>\n",
       "    </tr>\n",
       "    <tr>\n",
       "      <th>3</th>\n",
       "      <td>Because it suited her so well, and she wanted ...</td>\n",
       "      <td>select_sentence</td>\n",
       "      <td>Выберите верное предложение</td>\n",
       "      <td></td>\n",
       "      <td>[Because it suited her so well, and she wantin...</td>\n",
       "      <td>Because it suited her so well, and she wanted ...</td>\n",
       "    </tr>\n",
       "    <tr>\n",
       "      <th>4</th>\n",
       "      <td>One day her mother said to her, \"Come Little R...</td>\n",
       "      <td>select_sentence</td>\n",
       "      <td>Выберите верное предложение</td>\n",
       "      <td></td>\n",
       "      <td>[One day her mother said to her, Come Little R...</td>\n",
       "      <td>One day her mother said to her, Come Little Re...</td>\n",
       "    </tr>\n",
       "  </tbody>\n",
       "</table>\n",
       "</div>"
      ],
      "text/plain": [
       "                                            sentence             type  \\\n",
       "0    Once upon a time there was a sweet little girl.  select_sentence   \n",
       "1  Everyone who saw her liked her, but most of al...  select_sentence   \n",
       "2  Once she gave her a little cap made of red vel...  select_sentence   \n",
       "3  Because it suited her so well, and she wanted ...  select_sentence   \n",
       "4  One day her mother said to her, \"Come Little R...  select_sentence   \n",
       "\n",
       "                   description object  \\\n",
       "0  Выберите верное предложение          \n",
       "1  Выберите верное предложение          \n",
       "2  Выберите верное предложение          \n",
       "3  Выберите верное предложение          \n",
       "4  Выберите верное предложение          \n",
       "\n",
       "                                    response_options  \\\n",
       "0  [Once upon a time there am a sweet little girl...   \n",
       "1  [Everyone who saw her likes her, but most of a...   \n",
       "2  [Once she given her a little cap makes of red ...   \n",
       "3  [Because it suited her so well, and she wantin...   \n",
       "4  [One day her mother said to her, Come Little R...   \n",
       "\n",
       "                                        right_answer  \n",
       "0    Once upon a time there was a sweet little girl.  \n",
       "1  Everyone who saw her liked her, but most of al...  \n",
       "2  Once she gave her a little cap made of red vel...  \n",
       "3  Because it suited her so well, and she wanted ...  \n",
       "4  One day her mother said to her, Come Little Re...  "
      ]
     },
     "execution_count": 54,
     "metadata": {},
     "output_type": "execute_result"
    }
   ],
   "source": [
    "df_10.head()"
   ]
  },
  {
   "cell_type": "code",
   "execution_count": 55,
   "id": "651dd780",
   "metadata": {},
   "outputs": [
    {
     "data": {
      "text/plain": [
       "(98, 6)"
      ]
     },
     "execution_count": 55,
     "metadata": {},
     "output_type": "execute_result"
    }
   ],
   "source": [
    "df_10.shape"
   ]
  },
  {
   "cell_type": "markdown",
   "id": "7456733c",
   "metadata": {},
   "source": [
    "### Объединение данных в один датафрейм"
   ]
  },
  {
   "cell_type": "code",
   "execution_count": 56,
   "id": "0e73e39c",
   "metadata": {},
   "outputs": [
    {
     "data": {
      "text/html": [
       "<div>\n",
       "<style scoped>\n",
       "    .dataframe tbody tr th:only-of-type {\n",
       "        vertical-align: middle;\n",
       "    }\n",
       "\n",
       "    .dataframe tbody tr th {\n",
       "        vertical-align: top;\n",
       "    }\n",
       "\n",
       "    .dataframe thead th {\n",
       "        text-align: right;\n",
       "    }\n",
       "</style>\n",
       "<table border=\"1\" class=\"dataframe\">\n",
       "  <thead>\n",
       "    <tr style=\"text-align: right;\">\n",
       "      <th></th>\n",
       "      <th>sentence</th>\n",
       "      <th>type</th>\n",
       "      <th>description</th>\n",
       "      <th>object</th>\n",
       "      <th>response_options</th>\n",
       "      <th>right_answer</th>\n",
       "    </tr>\n",
       "  </thead>\n",
       "  <tbody>\n",
       "    <tr>\n",
       "      <th>0</th>\n",
       "      <td>Once upon a time there was a sweet little girl.</td>\n",
       "      <td>select_verb_form</td>\n",
       "      <td>Выберите глагол в правильной форме</td>\n",
       "      <td>Once upon a time there _____ a sweet little girl.</td>\n",
       "      <td>[was, are, being, am, isn't, weren't, aren't, ...</td>\n",
       "      <td>was</td>\n",
       "    </tr>\n",
       "    <tr>\n",
       "      <th>1</th>\n",
       "      <td>Everyone who saw her liked her, but most of al...</td>\n",
       "      <td>select_verb_form</td>\n",
       "      <td>Выберите глагол в правильной форме</td>\n",
       "      <td>Everyone who saw her liked her, but most of al...</td>\n",
       "      <td>[knowing, knew, knows, known, know]</td>\n",
       "      <td>know</td>\n",
       "    </tr>\n",
       "    <tr>\n",
       "      <th>2</th>\n",
       "      <td>Once she gave her a little cap made of red vel...</td>\n",
       "      <td>select_verb_form</td>\n",
       "      <td>Выберите глагол в правильной форме</td>\n",
       "      <td>Once she gave her a little cap _____ of red ve...</td>\n",
       "      <td>[makes, make, made, making]</td>\n",
       "      <td>made</td>\n",
       "    </tr>\n",
       "    <tr>\n",
       "      <th>3</th>\n",
       "      <td>Because it suited her so well, and she wanted ...</td>\n",
       "      <td>select_verb_form</td>\n",
       "      <td>Выберите глагол в правильной форме</td>\n",
       "      <td>Because it suited her so well, and she _____ t...</td>\n",
       "      <td>[wanted, want, wants, wanting]</td>\n",
       "      <td>wanted</td>\n",
       "    </tr>\n",
       "    <tr>\n",
       "      <th>4</th>\n",
       "      <td>One day her mother said to her, \"Come Little R...</td>\n",
       "      <td>select_verb_form</td>\n",
       "      <td>Выберите глагол в правильной форме</td>\n",
       "      <td>One day her mother _____ to her, \"Come Little ...</td>\n",
       "      <td>[said, saying, says, say]</td>\n",
       "      <td>said</td>\n",
       "    </tr>\n",
       "  </tbody>\n",
       "</table>\n",
       "</div>"
      ],
      "text/plain": [
       "                                            sentence              type  \\\n",
       "0    Once upon a time there was a sweet little girl.  select_verb_form   \n",
       "1  Everyone who saw her liked her, but most of al...  select_verb_form   \n",
       "2  Once she gave her a little cap made of red vel...  select_verb_form   \n",
       "3  Because it suited her so well, and she wanted ...  select_verb_form   \n",
       "4  One day her mother said to her, \"Come Little R...  select_verb_form   \n",
       "\n",
       "                          description  \\\n",
       "0  Выберите глагол в правильной форме   \n",
       "1  Выберите глагол в правильной форме   \n",
       "2  Выберите глагол в правильной форме   \n",
       "3  Выберите глагол в правильной форме   \n",
       "4  Выберите глагол в правильной форме   \n",
       "\n",
       "                                              object  \\\n",
       "0  Once upon a time there _____ a sweet little girl.   \n",
       "1  Everyone who saw her liked her, but most of al...   \n",
       "2  Once she gave her a little cap _____ of red ve...   \n",
       "3  Because it suited her so well, and she _____ t...   \n",
       "4  One day her mother _____ to her, \"Come Little ...   \n",
       "\n",
       "                                    response_options right_answer  \n",
       "0  [was, are, being, am, isn't, weren't, aren't, ...          was  \n",
       "1                [knowing, knew, knows, known, know]         know  \n",
       "2                        [makes, make, made, making]         made  \n",
       "3                     [wanted, want, wants, wanting]       wanted  \n",
       "4                          [said, saying, says, say]         said  "
      ]
     },
     "execution_count": 56,
     "metadata": {},
     "output_type": "execute_result"
    }
   ],
   "source": [
    "data = pd.concat([df_1, df_2, df_3, df_4, df_5, df_6, df_7, df_8, df_9, df_10], ignore_index=True)\n",
    "data.head()"
   ]
  },
  {
   "cell_type": "code",
   "execution_count": 57,
   "id": "6862f1ba",
   "metadata": {},
   "outputs": [
    {
     "data": {
      "text/plain": [
       "(578, 6)"
      ]
     },
     "execution_count": 57,
     "metadata": {},
     "output_type": "execute_result"
    }
   ],
   "source": [
    "data.shape"
   ]
  },
  {
   "cell_type": "code",
   "execution_count": 58,
   "id": "ee5f918b",
   "metadata": {},
   "outputs": [],
   "source": [
    "# сохранение датафрейма с заданиями\n",
    "# data.to_json('data_js.json')"
   ]
  },
  {
   "cell_type": "markdown",
   "id": "2c6ce945",
   "metadata": {},
   "source": [
    "Разработанный набор функций сохранен в файле `english_exercises.py`."
   ]
  },
  {
   "cell_type": "code",
   "execution_count": 59,
   "id": "612cbff6",
   "metadata": {},
   "outputs": [],
   "source": [
    "from english_exercises import (select_verb_form,\n",
    "                               select_auxiliary_verb,\n",
    "                               select_similar_word,\n",
    "                               fill_missing_aux,\n",
    "                               fill_missing_det,\n",
    "                               fill_missing_prp,\n",
    "                               determine_type_of_noun_phrases,\n",
    "                               restore_order_of_parts_of_speech,\n",
    "                               restore_word_order,\n",
    "                               select_correct_sentence)\n",
    "\n",
    "def create_df(text):\n",
    "    splitter = SentenceSplitter(language='en')\n",
    "    sentences = splitter.split(text=text)\n",
    "    sentences = list(filter(lambda x: x, sentences))\n",
    "    df = pd.DataFrame(columns=['sentence', 'type', 'description', 'object', 'response_options', 'right_answer'])\n",
    "    df['sentence'] = sentences\n",
    "    df_1 = df.copy().apply(select_verb_form, axis=1).dropna().reset_index(drop=True)\n",
    "    df_2 = df.copy().apply(select_auxiliary_verb, axis=1).dropna().reset_index(drop=True)\n",
    "    df_3 = df.copy().apply(select_similar_word, axis=1).dropna().reset_index(drop=True)\n",
    "    df_4 = df.copy().apply(fill_missing_aux, axis=1).dropna().reset_index(drop=True)\n",
    "    df_5 = df.copy().apply(fill_missing_det, axis=1).dropna().reset_index(drop=True)\n",
    "    df_6 = df.copy().apply(fill_missing_prp, axis=1).dropna().reset_index(drop=True)\n",
    "    df_7 = df.copy().apply(determine_type_of_noun_phrases, axis=1).dropna().reset_index(drop=True)\n",
    "    df_8 = df.copy().apply(restore_order_of_parts_of_speech, axis=1).dropna().reset_index(drop=True)\n",
    "    df_9 = df.copy().apply(restore_word_order, axis=1).dropna().reset_index(drop=True)\n",
    "    df_10 = df.copy().apply(select_correct_sentence, axis=1).dropna().reset_index(drop=True)\n",
    "    return pd.concat([df_1, df_2, df_3, df_4, df_5, df_6, df_7, df_8, df_9, df_10], ignore_index=True)"
   ]
  },
  {
   "cell_type": "code",
   "execution_count": 60,
   "id": "b209bf9c",
   "metadata": {},
   "outputs": [
    {
     "data": {
      "text/html": [
       "<div>\n",
       "<style scoped>\n",
       "    .dataframe tbody tr th:only-of-type {\n",
       "        vertical-align: middle;\n",
       "    }\n",
       "\n",
       "    .dataframe tbody tr th {\n",
       "        vertical-align: top;\n",
       "    }\n",
       "\n",
       "    .dataframe thead th {\n",
       "        text-align: right;\n",
       "    }\n",
       "</style>\n",
       "<table border=\"1\" class=\"dataframe\">\n",
       "  <thead>\n",
       "    <tr style=\"text-align: right;\">\n",
       "      <th></th>\n",
       "      <th>sentence</th>\n",
       "      <th>type</th>\n",
       "      <th>description</th>\n",
       "      <th>object</th>\n",
       "      <th>response_options</th>\n",
       "      <th>right_answer</th>\n",
       "    </tr>\n",
       "  </thead>\n",
       "  <tbody>\n",
       "    <tr>\n",
       "      <th>0</th>\n",
       "      <td>Once upon a time there was a sweet little girl.</td>\n",
       "      <td>select_verb_form</td>\n",
       "      <td>Выберите глагол в правильной форме</td>\n",
       "      <td>Once upon a time there _____ a sweet little girl.</td>\n",
       "      <td>[isn't, am, aren't, be, being, been, are, were...</td>\n",
       "      <td>was</td>\n",
       "    </tr>\n",
       "    <tr>\n",
       "      <th>1</th>\n",
       "      <td>Everyone who saw her liked her, but most of al...</td>\n",
       "      <td>select_verb_form</td>\n",
       "      <td>Выберите глагол в правильной форме</td>\n",
       "      <td>Everyone who saw her liked her, but most of al...</td>\n",
       "      <td>[give, giving, given, gave, gives]</td>\n",
       "      <td>give</td>\n",
       "    </tr>\n",
       "    <tr>\n",
       "      <th>2</th>\n",
       "      <td>Once she gave her a little cap made of red vel...</td>\n",
       "      <td>select_verb_form</td>\n",
       "      <td>Выберите глагол в правильной форме</td>\n",
       "      <td>Once she _____ her a little cap made of red ve...</td>\n",
       "      <td>[gave, gives, giving, give, given]</td>\n",
       "      <td>gave</td>\n",
       "    </tr>\n",
       "    <tr>\n",
       "      <th>3</th>\n",
       "      <td>Because it suited her so well, and she wanted ...</td>\n",
       "      <td>select_verb_form</td>\n",
       "      <td>Выберите глагол в правильной форме</td>\n",
       "      <td>Because it suited her so well, and she wanted ...</td>\n",
       "      <td>[known, knows, know, knowing, knew]</td>\n",
       "      <td>known</td>\n",
       "    </tr>\n",
       "    <tr>\n",
       "      <th>4</th>\n",
       "      <td>One day her mother said to her, \"Come Little R...</td>\n",
       "      <td>select_verb_form</td>\n",
       "      <td>Выберите глагол в правильной форме</td>\n",
       "      <td>One day her mother said to her, \"_____ Little ...</td>\n",
       "      <td>[Coming, Come, Came, Comes]</td>\n",
       "      <td>Come</td>\n",
       "    </tr>\n",
       "  </tbody>\n",
       "</table>\n",
       "</div>"
      ],
      "text/plain": [
       "                                            sentence              type  \\\n",
       "0    Once upon a time there was a sweet little girl.  select_verb_form   \n",
       "1  Everyone who saw her liked her, but most of al...  select_verb_form   \n",
       "2  Once she gave her a little cap made of red vel...  select_verb_form   \n",
       "3  Because it suited her so well, and she wanted ...  select_verb_form   \n",
       "4  One day her mother said to her, \"Come Little R...  select_verb_form   \n",
       "\n",
       "                          description  \\\n",
       "0  Выберите глагол в правильной форме   \n",
       "1  Выберите глагол в правильной форме   \n",
       "2  Выберите глагол в правильной форме   \n",
       "3  Выберите глагол в правильной форме   \n",
       "4  Выберите глагол в правильной форме   \n",
       "\n",
       "                                              object  \\\n",
       "0  Once upon a time there _____ a sweet little girl.   \n",
       "1  Everyone who saw her liked her, but most of al...   \n",
       "2  Once she _____ her a little cap made of red ve...   \n",
       "3  Because it suited her so well, and she wanted ...   \n",
       "4  One day her mother said to her, \"_____ Little ...   \n",
       "\n",
       "                                    response_options right_answer  \n",
       "0  [isn't, am, aren't, be, being, been, are, were...          was  \n",
       "1                 [give, giving, given, gave, gives]         give  \n",
       "2                 [gave, gives, giving, give, given]         gave  \n",
       "3                [known, knows, know, knowing, knew]        known  \n",
       "4                        [Coming, Come, Came, Comes]         Come  "
      ]
     },
     "execution_count": 60,
     "metadata": {},
     "output_type": "execute_result"
    }
   ],
   "source": [
    "c_data = create_df(text)\n",
    "c_data.head()"
   ]
  },
  {
   "cell_type": "code",
   "execution_count": 61,
   "id": "970d6045",
   "metadata": {},
   "outputs": [
    {
     "data": {
      "text/plain": [
       "(584, 6)"
      ]
     },
     "execution_count": 61,
     "metadata": {},
     "output_type": "execute_result"
    }
   ],
   "source": [
    "c_data.shape"
   ]
  },
  {
   "cell_type": "code",
   "execution_count": 62,
   "id": "b9cd14fa",
   "metadata": {},
   "outputs": [
    {
     "data": {
      "text/plain": [
       "array(['select_verb_form', 'select_auxiliary_verb',\n",
       "       'select_word_from_similar_words', 'fill_missing_aux',\n",
       "       'fill_missing_det', 'fill_missing_prp', 'base_noun_phrases',\n",
       "       'part_of_speech', 'word_order', 'select_sentence'], dtype=object)"
      ]
     },
     "execution_count": 62,
     "metadata": {},
     "output_type": "execute_result"
    }
   ],
   "source": [
    "c_data['type'].unique()"
   ]
  },
  {
   "cell_type": "markdown",
   "id": "80f3953d",
   "metadata": {},
   "source": [
    "## Вывод"
   ]
  },
  {
   "cell_type": "markdown",
   "id": "a1d134ec",
   "metadata": {},
   "source": [
    "Было создано веб-приложение с помощью библиотеки Streamlit, которое из англоязычного текста формирует упражнения. Это приложение дает возможность пользователям практиковать английский язык на основе их любимых произведений.\n",
    "\n",
    "На данный момент реализовано генерирование нескольких упражнений, а именно:\n",
    "\n",
    "- на выбор пропущенного слова в предложении:\n",
    "    - правильной формы глагола,\n",
    "    - вспомогательного глагола,\n",
    "    - подходящего по смыслу слова,\n",
    "- на заполнение пропусков в предложении:\n",
    "    - вспомогательным глаголом,\n",
    "    - определителем,\n",
    "    - притяжательным местоимением,\n",
    "- на структуру предложения:\n",
    "    - тип главного существительного в именной группе (noun phrase),\n",
    "    - части речи слов в предложении,\n",
    "    - порядок слов в предложении.\n",
    "\n",
    "На основе текста \"Красная Шапочка\" братьев Гримм был подготовлен датасет, включающий каждое предложение, тип упражнения, описание упражнения, преобразованное предложение (само задание), варианты ответов и правильный ответ. Для каждого предложения проверялась возможность генерирования всех разработанных упражнений. Если пользователь не введет свой текст, по умолчанию будет загружен датасет на основе текста \"Красная Шапочка\".\n",
    "\n",
    "Набор функций, осуществляющий преобразования текста, находится в файле `english_exercises.py`. Само приложение - `english_exercises_app.py`. Посмотреть работу приложения можно через платформу Streamlit."
   ]
  }
 ],
 "metadata": {
  "kernelspec": {
   "display_name": "Python 3 (ipykernel)",
   "language": "python",
   "name": "python3"
  },
  "language_info": {
   "codemirror_mode": {
    "name": "ipython",
    "version": 3
   },
   "file_extension": ".py",
   "mimetype": "text/x-python",
   "name": "python",
   "nbconvert_exporter": "python",
   "pygments_lexer": "ipython3",
   "version": "3.9.13"
  },
  "toc": {
   "base_numbering": 1,
   "nav_menu": {},
   "number_sections": true,
   "sideBar": true,
   "skip_h1_title": true,
   "title_cell": "Table of Contents",
   "title_sidebar": "Contents",
   "toc_cell": false,
   "toc_position": {
    "height": "calc(100% - 180px)",
    "left": "10px",
    "top": "150px",
    "width": "395px"
   },
   "toc_section_display": true,
   "toc_window_display": true
  }
 },
 "nbformat": 4,
 "nbformat_minor": 5
}
